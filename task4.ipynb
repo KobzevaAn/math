{
 "cells": [
  {
   "cell_type": "code",
   "execution_count": 320,
   "metadata": {},
   "outputs": [],
   "source": [
    "import copy\n",
    "import numpy as np\n",
    "from scipy.linalg import norm\n",
    "from scipy import linalg \n",
    "import math\n",
    "from matplotlib import mlab\n",
    "import matplotlib.pyplot as plt\n",
    "from matplotlib import rcParams\n",
    "import matplotlib.pyplot as plt"
   ]
  },
  {
   "cell_type": "markdown",
   "metadata": {},
   "source": [
    "$$\\dfrac{d^2y}{dx^2}+(x+2)\\dfrac{dy}{dx}, y(0)=0, y'_x(0)=1$$"
   ]
  },
  {
   "cell_type": "markdown",
   "metadata": {},
   "source": [
    "Найдем точное решение: $$\\dfrac{dy}{dx}=z\\Rightarrow z'+(x+2)z=0\\Rightarrow  z=exp(-\\dfrac{x^2}{2}-2x), z(0)=1$$\n",
    "$$\\Rightarrow y=-\\dfrac{e^{(-\\frac{x^2}{2}-2x)}}{2(x+1)}+\\dfrac{1}{2} $$"
   ]
  },
  {
   "cell_type": "markdown",
   "metadata": {},
   "source": [
    "Исходное дифференциальное уравнение второго порядка можно свести к системе, \n",
    "состоящей из двух дифференциальных уравнений первого порядка при помощи замен $y'=q, q'=y'' \\Rightarrow$"
   ]
  },
  {
   "cell_type": "markdown",
   "metadata": {},
   "source": [
    "$$y'=q$$  "
   ]
  },
  {
   "cell_type": "markdown",
   "metadata": {},
   "source": [
    "$$ q'=-(x+2)q $$"
   ]
  },
  {
   "cell_type": "markdown",
   "metadata": {},
   "source": [
    " ##### Численно решим Методом Рунге-Кутты 2-го порядка"
   ]
  },
  {
   "cell_type": "markdown",
   "metadata": {},
   "source": [
    "Схема метода: $$k_1^{i} = h\\cdot f(x_i, y_i)= h\\cdot y'(x_i, y_i) $$ \n",
    "$$k_2^{i} = h\\cdot f(x_i+h, y_i+k_1^i)$$\n",
    "\n",
    "$$\\Delta y_i = \\dfrac{k_1^i+k_2^i}{2} \\Rightarrow y_{i+1}=y_i+ \\Delta y_i, x_{i+1}=x_i+h$$\n",
    "    "
   ]
  },
  {
   "cell_type": "markdown",
   "metadata": {},
   "source": [
    "Для нашего случая $$y_i=y_{i-1}+q_{i-1}\\cdot h$$\n",
    "$$q_i=q_{i-1}+(-x_{i-1}-2)\\cdot q_{i-1}\\cdot h$$\n",
    "\n"
   ]
  },
  {
   "cell_type": "code",
   "execution_count": 321,
   "metadata": {},
   "outputs": [],
   "source": [
    "def F(x):\n",
    "    y = math.exp(-(x*x)-2*x)*(-0.5)/(x+1)+0.5\n",
    "    return y"
   ]
  },
  {
   "cell_type": "code",
   "execution_count": 322,
   "metadata": {},
   "outputs": [],
   "source": [
    "def f_q(x, y):\n",
    "    f = -(x+2)*y\n",
    "    return f"
   ]
  },
  {
   "cell_type": "code",
   "execution_count": 323,
   "metadata": {},
   "outputs": [],
   "source": [
    "def f_y(x):\n",
    "    f = x\n",
    "    return f"
   ]
  },
  {
   "cell_type": "markdown",
   "metadata": {},
   "source": [
    "Для функции $q:$"
   ]
  },
  {
   "cell_type": "code",
   "execution_count": 324,
   "metadata": {},
   "outputs": [
    {
     "name": "stdout",
     "output_type": "stream",
     "text": [
      "x = 0.0 , q = 1.0 итерация 0\n",
      "x = 0.1 , q = 0.816 итерация 1\n",
      "x = 0.2 , q = 0.65941 итерация 2\n",
      "x = 0.3 , q = 0.527726 итерация 3\n",
      "x = 0.4 , q = 0.418275 итерация 4\n",
      "x = 0.5 , q = 0.328346 итерация 5\n",
      "x = 0.6 , q = 0.255289 итерация 6\n",
      "x = 0.7 , q = 0.196598 итерация 7\n",
      "x = 0.8 , q = 0.149965 итерация 8\n",
      "x = 0.9 , q = 0.113314 итерация 9\n",
      "x = 1.0 , q = 0.084815 итерация 10\n"
     ]
    }
   ],
   "source": [
    "n = 20\n",
    "k = [[0] * (2) for i in range(n)]\n",
    "dq = np.zeros(n)\n",
    "x = np.zeros(n)\n",
    "q = np.zeros(n)\n",
    "\n",
    "h = 0.1\n",
    "x[0] = 0\n",
    "q[0] = 1\n",
    "\n",
    "for i in range(n-1):\n",
    "    if x[i] <= 1:\n",
    "        print('x =',round(x[i], 10),', q =',round(q[i], 6),'итерация', i)\n",
    "        k[i][0] = h * f_q(x[i],q[i])\n",
    "        k[i][1] = h * f_q(x[i] + h,q[i]+k[i][0])\n",
    "        dq[i] = 0.5 * (k[i][0] + k[i][1])\n",
    "        x[i+1] = x[i] + h\n",
    "        q[i+1] = q[i] + dq[i]\n",
    "\n",
    "    else: break \n"
   ]
  },
  {
   "cell_type": "markdown",
   "metadata": {},
   "source": [
    "Для функции $y:$"
   ]
  },
  {
   "cell_type": "code",
   "execution_count": 325,
   "metadata": {},
   "outputs": [
    {
     "name": "stdout",
     "output_type": "stream",
     "text": [
      "q = 1.0 , y = 0.0 итерация 0\n",
      "q = 0.816 , y = 0.105 итерация 1\n",
      "q = 0.6594 , y = 0.19068 итерация 2\n",
      "q = 0.5277 , y = 0.259918 итерация 3\n",
      "q = 0.4183 , y = 0.315329 итерация 4\n",
      "q = 0.3283 , y = 0.359248 итерация 5\n",
      "q = 0.2553 , y = 0.393724 итерация 6\n",
      "q = 0.1966 , y = 0.42053 итерация 7\n",
      "q = 0.15 , y = 0.441173 итерация 8\n",
      "q = 0.1133 , y = 0.456919 итерация 9\n",
      "q = 0.0848 , y = 0.468817 итерация 10\n"
     ]
    }
   ],
   "source": [
    "n = 20\n",
    "k = [[0] * (2) for i in range(n)]\n",
    "dy = np.zeros(n)\n",
    "y = np.zeros(n)\n",
    "\n",
    "h = 0.1\n",
    "y[0] = 0\n",
    "for i in range(11):\n",
    "    print('q =',round(q[i], 4),', y =',round(y[i], 6),'итерация', i)\n",
    "    k[i][0] = h * f_y(q[i])\n",
    "    k[i][1] = h * f_y(q[i] + k[i][0])\n",
    "    dy[i] = 0.5 * (k[i][0] + k[i][1])\n",
    "    y[i+1] = y[i] + dy[i]\n"
   ]
  },
  {
   "cell_type": "markdown",
   "metadata": {},
   "source": [
    "Невязка $|[y]_n-y^{(n)}|,$ где $[y]_n-$точное решение, $y^{(n)}$- численное решение метода"
   ]
  },
  {
   "cell_type": "code",
   "execution_count": 326,
   "metadata": {},
   "outputs": [
    {
     "name": "stdout",
     "output_type": "stream",
     "text": [
      "0.0\n",
      "0.0266\n",
      "0.041\n",
      "0.0472\n",
      "0.0479\n",
      "0.0453\n",
      "0.0406\n",
      "0.035\n",
      "0.0293\n",
      "0.0237\n",
      "0.0187\n"
     ]
    }
   ],
   "source": [
    "for i in range(11):\n",
    "    print(round(F(x[i])-y[i], 4))"
   ]
  },
  {
   "cell_type": "code",
   "execution_count": 327,
   "metadata": {},
   "outputs": [
    {
     "data": {
      "image/png": "[encoded data removed]",
      "text/plain": [
       "<Figure size 432x288 with 1 Axes>"
      ]
     },
     "metadata": {},
     "output_type": "display_data"
    }
   ],
   "source": [
    "\n",
    "Ox = [x[i] for i in range(10)]\n",
    "Oy = [y[i] for i in range(10)]\n",
    "list_x = [0 + i/100 for i in range (0, 100 )]\n",
    "list_y = [F(list_x[i]) for i in range(0, 100)]\n",
    "plt.plot(list_x, list_y, label = u'точное решение')\n",
    "plt.scatter(x, y, c='green',label = u'метод Рунге-Кутты ' )\n",
    "plt.legend()\n",
    "\n",
    "\n",
    "plt.show()"
   ]
  },
  {
   "cell_type": "code",
   "execution_count": null,
   "metadata": {},
   "outputs": [],
   "source": []
  }
 ],
 "metadata": {
  "kernelspec": {
   "display_name": "Python 3",
   "language": "python",
   "name": "python3"
  },
  "language_info": {
   "codemirror_mode": {
    "name": "ipython",
    "version": 3
   },
   "file_extension": ".py",
   "mimetype": "text/x-python",
   "name": "python",
   "nbconvert_exporter": "python",
   "pygments_lexer": "ipython3",
   "version": "3.6.5"
  }
 },
 "nbformat": 4,
 "nbformat_minor": 2
}
