{
 "cells": [
  {
   "cell_type": "code",
   "execution_count": 124,
   "metadata": {},
   "outputs": [],
   "source": [
    "import copy\n",
    "import numpy as np\n",
    "from scipy.linalg import norm\n",
    "from scipy import linalg \n",
    "import math\n",
    "from matplotlib import mlab\n",
    "import matplotlib.pyplot as plt\n",
    "from matplotlib import rcParams\n",
    "import matplotlib.pyplot as plt\n"
   ]
  },
  {
   "cell_type": "markdown",
   "metadata": {},
   "source": [
    "Дано:\n",
    "\n",
    "| x  | f(x)  | f'(x) |\n",
    "| -- | ----  | ----- |\n",
    "| 1  |   1   |   a$\\leq$0   |\n",
    "| 2  |   0   |    3         |"
   ]
  },
  {
   "cell_type": "code",
   "execution_count": 8,
   "metadata": {},
   "outputs": [
    {
     "name": "stdout",
     "output_type": "stream",
     "text": [
      "-0.3119249906499615\n"
     ]
    }
   ],
   "source": [
    "arg = np.zeros(2)\n",
    "arg[0] = 1\n",
    "arg[1] = 2\n",
    " \n",
    "f = np.zeros(2)\n",
    "f[0] = 1\n",
    "f[1] = 0\n",
    "\n",
    "\n",
    "f1 = np.zeros(2)\n",
    "f1[0] = np.random.uniform(-10, 0)\n",
    "f1[1] = 3\n",
    "\n",
    "print(f1[0])"
   ]
  },
  {
   "cell_type": "markdown",
   "metadata": {},
   "source": [
    "#### Интерполируем многочленом в форме Эрмита "
   ]
  },
  {
   "cell_type": "code",
   "execution_count": 114,
   "metadata": {},
   "outputs": [],
   "source": [
    "def ermit(arg = np.array(len(arg)), f = np.array(len(f)), f1 = np.array(len(f1))):\n",
    "    n = len (arg)\n",
    "    f = list(f)\n",
    "    arg = list(arg)\n",
    "    f1 = list(f1)\n",
    "    j = 0\n",
    "    while j < n+1:\n",
    "        f.insert(j+1, f[j])\n",
    "        arg.insert(j+1, arg[j])\n",
    "        f1.insert(j+1, f1[j])\n",
    "        j=j+2\n",
    "            \n",
    "    f.reverse()\n",
    "    arg.reverse()\n",
    "    f1.reverse()\n",
    "        \n",
    "    print('разделенная разность 0-ого порядка = ', f)        \n",
    "\n",
    "    n = len(f)\n",
    "    a = np.zeros(n-1)\n",
    "    \n",
    "    for j in range(n-1):\n",
    "        if f[j] == f[j+1]:\n",
    "            a[j] = f1[j]\n",
    "        else: \n",
    "            a[j] = float((f[j+1] - f[j]) / (arg[j+1] - arg[j]))\n",
    "\n",
    "     \n",
    "    print('разделенная разность 1-ого порядка = ', a)\n",
    "\n",
    "    n = len(a)\n",
    "    b = np.zeros(n-1)\n",
    "    for j in range(n-1):\n",
    "        if a[j] == a[j+1]:\n",
    "            b[j] = None\n",
    "        else: \n",
    "            b[j] = float((a[j+1] - a[j]) / (arg[j+2] - arg[j]))\n",
    "    print('разделенная разность 2ого порядка = ', b)\n",
    "\n",
    "    n = len(a)\n",
    "    c = np.zeros(n-2)\n",
    "    for j in range(n-2):\n",
    "        if b[j] == b[j+1]:\n",
    "            c[j] = None\n",
    "        else: \n",
    "            c[j] = float((b[j+1] - b[j]) / (arg[j+3] - arg[j]))\n",
    "    print('разделенная разность 3го порядка = ', c)\n",
    "    \n",
    "\n",
    "    d = np.array([f[0], a[0], b[0], c[0]])\n",
    " \n",
    "    return np.array(d)\n",
    "            \n",
    "    "
   ]
  },
  {
   "cell_type": "code",
   "execution_count": 116,
   "metadata": {},
   "outputs": [
    {
     "name": "stdout",
     "output_type": "stream",
     "text": [
      "разделенная разность 0-ого порядка =  [0.0, 0.0, 1.0, 1.0]\n",
      "разделенная разность 1-ого порядка =  [ 3.         -1.         -0.31192499]\n",
      "разделенная разность 2ого порядка =  [ 4.         -0.68807501]\n",
      "разделенная разность 3го порядка =  [4.68807501]\n",
      "f1 =  0.0 \n",
      "f11 =  3.0 \n",
      "f110 =  4.0 \n",
      "f1100 =  4.6880750093500385\n",
      "\n",
      "x0 =  1.0 , x1 =  2.0\n"
     ]
    }
   ],
   "source": [
    "a = ermit(arg, f, f1)\n",
    "print('f1 = ', a[0], '\\nf11 = ', a[1], '\\nf110 = ', a[2],'\\nf1100 = ', a[3] )\n",
    "print('\\nx0 = ', arg[0], ', x1 = ', arg[1])\n"
   ]
  },
  {
   "cell_type": "markdown",
   "metadata": {},
   "source": [
    "Тогда интерполяционный многочлен выглядит следующим образом: $$P_2(x) = 0 + 3(x-2) + 4(x-2)^2+(a+5)(x-2)^2(x-1)$$\n",
    "$$a+5 = f_{1100}$$\n",
    "\n"
   ]
  },
  {
   "cell_type": "markdown",
   "metadata": {},
   "source": [
    "Погрешность интерполяции: $$R(x)=\\frac{4}{2!}(x-2)^2(x-1) $$\n",
    "Учитывая $P(1.5) = 0, R(1.5) = 0.25\\sim 10^{-2}$\n"
   ]
  },
  {
   "cell_type": "code",
   "execution_count": 128,
   "metadata": {},
   "outputs": [],
   "source": [
    "def P_2 (x, a):\n",
    "    return  0 + 3 * (x - 2) + 4 * (x - 2) ** 2 + (a + 5) * (x - 1) * (x - 2) ** 2\n",
    " "
   ]
  },
  {
   "cell_type": "code",
   "execution_count": 139,
   "metadata": {},
   "outputs": [
    {
     "data": {
      "image/png": "[encoded data removed]",
      "text/plain": [
       "<Figure size 432x288 with 1 Axes>"
      ]
     },
     "metadata": {},
     "output_type": "display_data"
    }
   ],
   "source": [
    "list_x = [1 + i/100 for i in range (0, 100)]\n",
    "list_y = [P_2(list_x[i], -5) for i in range(0, 100)]\n",
    "plt.plot(list_x, list_y, label = u'a = -5')\n",
    "list_y = [P_2(list_x[i], -10) for i in range(0, 100)]\n",
    "plt.plot(list_x, list_y, label = u'a = -10')\n",
    "list_y = [P_2(list_x[i], 0) for i in range(0, 100)]\n",
    "plt.plot(list_x, list_y, label = u'a = 0')\n",
    "list_y = [P_2(list_x[i], f1[0]) for i in range(0, 100)]\n",
    "plt.plot(list_x, list_y, label = u'a = f_1100')\n",
    "plt.scatter(2, 0)\n",
    "plt.scatter(1, 1)\n",
    "plt.legend()\n",
    "\n",
    "plt.show()"
   ]
  },
  {
   "cell_type": "code",
   "execution_count": null,
   "metadata": {},
   "outputs": [],
   "source": []
  }
 ],
 "metadata": {
  "kernelspec": {
   "display_name": "Python 3",
   "language": "python",
   "name": "python3"
  },
  "language_info": {
   "codemirror_mode": {
    "name": "ipython",
    "version": 3
   },
   "file_extension": ".py",
   "mimetype": "text/x-python",
   "name": "python",
   "nbconvert_exporter": "python",
   "pygments_lexer": "ipython3",
   "version": "3.6.5"
  }
 },
 "nbformat": 4,
 "nbformat_minor": 2
}
