{
 "cells": [
  {
   "cell_type": "code",
   "execution_count": 174,
   "metadata": {},
   "outputs": [],
   "source": [
    "import copy\n",
    "import numpy as np\n",
    "from scipy.linalg import norm\n",
    "from scipy import linalg \n",
    "import math\n",
    "from matplotlib import mlab\n",
    "import matplotlib.pyplot as plt\n",
    "from matplotlib import rcParams\n"
   ]
  },
  {
   "cell_type": "markdown",
   "metadata": {},
   "source": [
    "Дано:\n",
    "\n",
    "| x  | f(x)  | f'(x) |\n",
    "| -- | ----  | ----- |\n",
    "| 1  |   1   |   -   |\n",
    "| 2  |   0   |   3   |"
   ]
  },
  {
   "cell_type": "code",
   "execution_count": 175,
   "metadata": {},
   "outputs": [],
   "source": [
    "arg = np.zeros(2)\n",
    "arg[0] = 1\n",
    "arg[1] = 2\n",
    " \n",
    "f = np.zeros(2)\n",
    "f[0] = 1\n",
    "f[1] = 0\n",
    "\n",
    "f1 = np.zeros(2)\n",
    "f1[0] = None\n",
    "f1[1] = 3\n"
   ]
  },
  {
   "cell_type": "markdown",
   "metadata": {},
   "source": [
    "#### Интерполируем многочленом в форме Эрмита "
   ]
  },
  {
   "cell_type": "code",
   "execution_count": 176,
   "metadata": {},
   "outputs": [],
   "source": [
    "def ermit(arg = np.array(len(arg)), f = np.array(len(f)), f1 = np.array(len(f1))):\n",
    "    n = len (arg)\n",
    "    f = list(f)\n",
    "    arg = list(arg)\n",
    "    f1 = list(f1)\n",
    "    \n",
    "    for j in range(n-1):\n",
    "        if f1[j] != None :\n",
    "            f.insert(j+1, f[j+1])\n",
    "            arg.insert(j+1, arg[j+1])\n",
    "    \n",
    "    if f[0] != f[1]:\n",
    "        f.reverse()\n",
    "        arg.reverse()\n",
    "        f1.reverse()\n",
    "        \n",
    "    print('разделенная разность 0-ого порядка = ', f)        \n",
    "\n",
    "    n = len(f)\n",
    "    a = np.zeros(n-1)\n",
    "    for j in range(n-1):\n",
    "        if f[j] == f[j+1]:\n",
    "            a[j] = f1[j]\n",
    "        else: \n",
    "            a[j] = float((f[j+1] - f[j]) / (arg[j+1] - arg[j]))\n",
    "            \n",
    "    print('разделенная разность 1-ого порядка = ', a)\n",
    "\n",
    "    n = len(a)\n",
    "    b = np.zeros(n-1)\n",
    "    for j in range(n-1):\n",
    "        if a[j] == a[j+1]:\n",
    "            b[j] = None\n",
    "        else: \n",
    "            b[j] = float((a[j+1] - a[j]) / (arg[j+2] - arg[j]))\n",
    "    print('разделенная разность 2ого порядка = ', b)\n",
    "    \n",
    "\n",
    "    c = np.array([f[0], a[0], b[0]])\n",
    " \n",
    "    return np.array(c)\n",
    "            \n",
    "    "
   ]
  },
  {
   "cell_type": "code",
   "execution_count": 177,
   "metadata": {},
   "outputs": [
    {
     "name": "stdout",
     "output_type": "stream",
     "text": [
      "разделенная разность 0-ого порядка =  [0.0, 0.0, 1.0]\n",
      "разделенная разность 1-ого порядка =  [ 3. -1.]\n",
      "разделенная разность 2ого порядка =  [4.]\n",
      "f1 =  0.0 \n",
      "f11 =  3.0 \n",
      "f110 =  4.0\n",
      "\n",
      "x0 =  1.0 , x1 =  2.0\n"
     ]
    }
   ],
   "source": [
    "a = ermit(arg, f, f1)\n",
    "print('f1 = ', a[0], '\\nf11 = ', a[1], '\\nf110 = ', a[2])\n",
    "print('\\nx0 = ', arg[0], ', x1 = ', arg[1])\n"
   ]
  },
  {
   "cell_type": "markdown",
   "metadata": {},
   "source": [
    "Тогда интерполяционный многочлен выглядит следующим образом: $P_2(x) = 0 + 3(x-2) + 4(x-2)^2$$\n",
    "\n"
   ]
  },
  {
   "cell_type": "markdown",
   "metadata": {},
   "source": [
    "Погрешность интерполяции: $$R(x)=\\frac{4}{2!}(x-2)^2(x-1) $$\n",
    "Учитывая $P(1.5) = 0, R(1.5) = 0.25\\sim 10^{-2}$\n"
   ]
  },
  {
   "cell_type": "code",
   "execution_count": null,
   "metadata": {},
   "outputs": [],
   "source": []
  }
 ],
 "metadata": {
  "kernelspec": {
   "display_name": "Python 3",
   "language": "python",
   "name": "python3"
  },
  "language_info": {
   "codemirror_mode": {
    "name": "ipython",
    "version": 3
   },
   "file_extension": ".py",
   "mimetype": "text/x-python",
   "name": "python",
   "nbconvert_exporter": "python",
   "pygments_lexer": "ipython3",
   "version": "3.6.5"
  }
 },
 "nbformat": 4,
 "nbformat_minor": 2
}
