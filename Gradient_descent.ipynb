{
 "cells": [
  {
   "cell_type": "code",
   "execution_count": 83,
   "metadata": {},
   "outputs": [],
   "source": [
    "import numpy as np\n",
    "import random\n",
    "import math\n",
    "from numpy.linalg import norm, eig\n",
    "#plot\n",
    "import matplotlib.pyplot as plt\n",
    "%matplotlib inline\n",
    "plt.style.use('bmh')"
   ]
  },
  {
   "cell_type": "code",
   "execution_count": 82,
   "metadata": {},
   "outputs": [
    {
     "name": "stdout",
     "output_type": "stream",
     "text": [
      "x_solution =  [-82.92325323 -97.97017432  80.50900105   0.63533056  53.31267965\n",
      " -95.1447834   58.73174477 -45.53911603  -3.62685474  63.29708705\n",
      "  15.07247228 -84.65694128 -48.09619275  88.69745882  17.5870659\n",
      "  57.06397338  91.50815601  31.75949006 -12.50748821 -56.96741335\n",
      "   1.42147558  95.37758364  58.11030342 -63.62958939  61.10294699\n",
      "  76.26876738  77.12646566 -16.49996833   7.80779887  14.10308903\n",
      "   6.78768185 -27.1273322  -42.23888116 -92.97317592 -10.48593813\n",
      " -24.41937711  11.1176397  -35.48572946  47.60773628  32.95761104\n",
      " -82.8114622  -33.08480024  83.92306473  52.83849457  67.63225853\n",
      "  61.31057793  13.40873927 -17.3069604  -23.66749621 -47.22500792\n",
      " -62.02714819 -98.57379594 -57.17697731  58.03392587  21.8538841\n",
      " -20.81953592  70.48343881  37.76279289 -88.88446907  12.74666406\n",
      "  90.64067161  -1.68299515  81.81430199 -43.21734965  29.92272725\n",
      "  11.78656299 -76.36416016 -32.5691108   98.53821354  70.69619741\n",
      " -91.95797673  44.58909722 -26.6810998   29.95067144  43.31328168\n",
      "  91.6211833   46.91251536  60.3402357  -35.16597126  23.78749678\n",
      "  22.30619321 -41.16574306 -12.87273344 -13.47228612  73.10177052\n",
      "   4.89592211 -17.62997318 -66.31293057  -4.68349296  77.91413457\n",
      "  90.78844952  41.72856509 -64.39913642 -56.9555376   75.03091098\n",
      " -39.39272669 -38.7915771  -72.23521792 -52.68047691  93.53664602] \n",
      " f(x) = 0\n"
     ]
    }
   ],
   "source": [
    "def generate_data(size):\n",
    "    A = np.zeros((size,size))\n",
    "    x = np.zeros(size)\n",
    "    for i in range(size):\n",
    "        for j in range(size):\n",
    "            A[i][j] = random.uniform(-100, 100)\n",
    "        x[i] = random.uniform(-100, 100)\n",
    "    b = A.dot(x)\n",
    "    return A, b, x\n",
    "\n",
    "def f(x):\n",
    "    global A, b\n",
    "    return norm(A.dot(x) - b) ** 2\n",
    "    \n",
    "def grad_f(x):\n",
    "    global A, b\n",
    "    return 2 * (A @ x - b).T @ A\n",
    "\n",
    "def def_alpha():\n",
    "    global A\n",
    "    #собственные значения матрицы 2* A.T @ A\n",
    "    eigenvalues, _ = eig(2 *A.T @ A)\n",
    "    return max(eigenvalues)\n",
    "    \n",
    "def grad_descent(num_iter=100):\n",
    "    global x\n",
    "    f_solution = f(x)\n",
    "    alpha, beta, eps = def_alpha(), 0.1, 0.001\n",
    "    H = ((1 - beta) ** 2) / (alpha * (1 + beta) ** 2)\n",
    "    # в начале градиентного спуска инициализируем значение x какими-нибудь вектором\n",
    "    cur_x = np.ones(100)\n",
    "    steps = [[cur_x, f(cur_x)]]\n",
    "    # итерация цикла -- шаг градиентнго спуска\n",
    "    while  f(cur_x) - f_solution > eps:\n",
    "        steps.append([cur_x, f(cur_x)])\n",
    "        cur_x = cur_x - H * grad_f(cur_x)\n",
    "    return np.array(steps)\n",
    "\n",
    "A,b,x = generate_data(100)\n",
    "steps = grad_descent()\n",
    "print('x_solution = ', steps[-1][0] , '\\n', 'f(x) = %d'%steps[-1][1])"
   ]
  },
  {
   "cell_type": "code",
   "execution_count": 60,
   "metadata": {},
   "outputs": [
    {
     "name": "stdout",
     "output_type": "stream",
     "text": [
      "count of steps = 1266496\n"
     ]
    }
   ],
   "source": [
    "print('count of steps = %d'%steps.shape[0])"
   ]
  },
  {
   "cell_type": "code",
   "execution_count": 70,
   "metadata": {},
   "outputs": [],
   "source": [
    "file = open('solution.txt', 'w')\n",
    "file.write('step \\t function value \\n')\n",
    "for i,f in enumerate(steps):\n",
    "    file.write('%d \\t %f \\n'%(i, f[1]))"
   ]
  },
  {
   "cell_type": "code",
   "execution_count": 84,
   "metadata": {},
   "outputs": [
    {
     "data": {
      "text/plain": [
       "Text(0,0.5,'f(cur_x)')"
      ]
     },
     "execution_count": 84,
     "metadata": {},
     "output_type": "execute_result"
    },
    {
     "data": {
      "image/png": "[encoded data removed]",
      "text/plain": [
       "<matplotlib.figure.Figure at 0x150923940>"
      ]
     },
     "metadata": {},
     "output_type": "display_data"
    }
   ],
   "source": [
    "f_solution = f(x)\n",
    "f_x_0 = f(steps[0][0])\n",
    "x_axis = [i for i in range(steps.shape[0])]\n",
    "y_axis = [math.log((f[1] - f_solution)/(f_x_0 - f_solution)) for f in steps]\n",
    "plt.scatter(x_axis, y_axis)\n",
    "plt.title('Gradient descent')\n",
    "plt.xlabel('step')\n",
    "plt.ylabel('f(cur_x)')"
   ]
  }
 ],
 "metadata": {
  "kernelspec": {
   "display_name": "Python 3",
   "language": "python",
   "name": "python3"
  },
  "language_info": {
   "codemirror_mode": {
    "name": "ipython",
    "version": 3
   },
   "file_extension": ".py",
   "mimetype": "text/x-python",
   "name": "python",
   "nbconvert_exporter": "python",
   "pygments_lexer": "ipython3",
   "version": "3.6.6"
  }
 },
 "nbformat": 4,
 "nbformat_minor": 2
}
