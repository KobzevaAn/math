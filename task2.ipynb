{
 "cells": [
  {
   "cell_type": "code",
   "execution_count": 260,
   "metadata": {},
   "outputs": [],
   "source": [
    "import copy\n",
    "import numpy as np\n",
    "from scipy.linalg import norm\n",
    "from scipy import linalg \n",
    "import math\n",
    "from matplotlib import mlab\n",
    "import matplotlib.pyplot as plt\n",
    "from matplotlib import rcParams\n"
   ]
  },
  {
   "cell_type": "markdown",
   "metadata": {},
   "source": [
    "#### Метод наименьших квадратов"
   ]
  },
  {
   "cell_type": "code",
   "execution_count": 261,
   "metadata": {},
   "outputs": [],
   "source": [
    "n = 8\n",
    "A1 = [[0] * (n+1) for i in range(2)]\n",
    "for j in range(0,n+1):\n",
    "    A1[0][j] = 20 + j\n",
    "A1[1][0] = 431\n",
    "A1[1][1] = 409 \n",
    "A1[1][2] = 429\n",
    "A1[1][3] = 422\n",
    "A1[1][4] = 530\n",
    "A1[1][5] = 505\n",
    "A1[1][6] = 459\n",
    "A1[1][7] = 499\n",
    "A1[1][8] = 526\n",
    "\n",
    "A2 = [[0] * (n+1) for i in range(2)]\n",
    "for j in range(0,n+1):\n",
    "    A2[0][j] = 29 + j\n",
    "A2[1][0] = 563\n",
    "A2[1][1] = 587\n",
    "A2[1][2] = 595\n",
    "A2[1][3] = 647\n",
    "A2[1][4] = 669\n",
    "A2[1][5] = 746\n",
    "A2[1][6] = 760\n",
    "A2[1][7] = 778\n",
    "A2[1][8] = 828\n",
    "\n",
    "A3 = [[0] * (n+1) for i in range(2)]\n",
    "for j in range(0,n+1):\n",
    "    A3[0][j] = 38 + j\n",
    "A3[1][0] = 846\n",
    "A3[1][1] = 836\n",
    "A3[1][2] = 916\n",
    "A3[1][3] = 956\n",
    "A3[1][4] = 1014\n",
    "A3[1][5] = 1076\n",
    "A3[1][6] = 1134\n",
    "A3[1][7] = 1024\n",
    "A3[1][8] = 1198\n"
   ]
  },
  {
   "cell_type": "code",
   "execution_count": 262,
   "metadata": {},
   "outputs": [],
   "source": [
    "def k_a(A = np.array((n)*2)):\n",
    "    xy, x, y, x2 = [0]*4\n",
    "    for j in range(n+1):\n",
    "        xy += A[0][j]*A[1][j]\n",
    "        x += A[0][j] \n",
    "        y += A[1][j] \n",
    "        x2 += A[0][j]*A[0][j]\n",
    "    a = (9*xy-x*y)/(9*x2-x*x)\n",
    "    return a\n",
    "\n",
    "def k_b(A = np.array((n)*2)):\n",
    "    xy, x, y, x2 = [0]*4\n",
    "    for j in range(n+1):\n",
    "        xy += A[0][j]*A[1][j]\n",
    "        x += A[0][j] \n",
    "        y += A[1][j] \n",
    "        x2 += A[0][j]*A[0][j]\n",
    "    b = (y*x2-xy*x)/(9*x2-x*x)\n",
    "    return b\n"
   ]
  },
  {
   "cell_type": "code",
   "execution_count": 263,
   "metadata": {},
   "outputs": [],
   "source": [
    "\n",
    "def f(x, A = np.array((n)*2)):\n",
    "    a = k_a(A)\n",
    "    b = k_b(A)\n",
    "    y = a*(x)+b\n",
    "    return y\n"
   ]
  },
  {
   "cell_type": "code",
   "execution_count": 264,
   "metadata": {
    "scrolled": true
   },
   "outputs": [
    {
     "data": {
      "image/png": "[encoded data removed]",
      "text/plain": [
       "<Figure size 432x288 with 1 Axes>"
      ]
     },
     "metadata": {},
     "output_type": "display_data"
    }
   ],
   "source": [
    "Ox1 = [i for i in range(20, 29)]\n",
    "Oy1 = [f(Ox1[i],A1) for i in range(len(Ox1))]\n",
    "plt.plot(Ox1, Oy1)\n",
    "Ox2 = [i for i in range(28, 39)]\n",
    "Oy2 = [f(Ox2[i],A2) for i in range(len(Ox2))]\n",
    "plt.plot(Ox2, Oy2)\n",
    "Ox3 = [i for i in range(37, 48)]\n",
    "Oy3 = [f(Ox3[i],A3) for i in range(len(Ox3))]\n",
    "plt.plot(Ox3, Oy3)\n",
    "x1, y1 = A1\n",
    "x2, y2 = A2\n",
    "x3, y3 = A3\n",
    "plt.scatter(x1, y1)\n",
    "plt.scatter(x2, y2)\n",
    "plt.scatter(x3, y3)\n",
    "\n",
    "plt.show()"
   ]
  },
  {
   "cell_type": "code",
   "execution_count": 265,
   "metadata": {},
   "outputs": [],
   "source": [
    "n = 26\n",
    "A = [[0] * (n+1) for i in range(2)]\n",
    "for j in range(0,n+1):\n",
    "    A[0][j] = 20 + j\n",
    "A[1][0] = 431\n",
    "A[1][1] = 409 \n",
    "A[1][2] = 429\n",
    "A[1][3] = 422\n",
    "A[1][4] = 530\n",
    "A[1][5] = 505\n",
    "A[1][6] = 459\n",
    "A[1][7] = 499\n",
    "A[1][8] = 526\n",
    "A[1][9] = 563\n",
    "A[1][10] = 587\n",
    "A[1][11] = 595\n",
    "A[1][12] = 647\n",
    "A[1][13] = 669\n",
    "A[1][14] = 746\n",
    "A[1][15] = 760\n",
    "A[1][16] = 778\n",
    "A[1][17] = 828\n",
    "A[1][18] = 846\n",
    "A[1][19] = 836\n",
    "A[1][20] = 916\n",
    "A[1][21] = 956\n",
    "A[1][22] = 1014\n",
    "A[1][23] = 1076\n",
    "A[1][24] = 1134\n",
    "A[1][25] = 1024\n",
    "A[1][26] = 1198\n"
   ]
  },
  {
   "cell_type": "code",
   "execution_count": 259,
   "metadata": {},
   "outputs": [
    {
     "data": {
      "image/png": "[encoded data removed]",
      "text/plain": [
       "<Figure size 432x288 with 1 Axes>"
      ]
     },
     "metadata": {},
     "output_type": "display_data"
    }
   ],
   "source": [
    "\n",
    "Ox = [i for i in range(20, 48)]\n",
    "Oy = [f(Ox[i],A) for i in range(len(Ox))]\n",
    "plt.plot(Ox, Oy)\n",
    "x, y = A\n",
    "plt.scatter(x, y)\n",
    "\n",
    "plt.show()"
   ]
  },
  {
   "cell_type": "code",
   "execution_count": null,
   "metadata": {},
   "outputs": [],
   "source": []
  }
 ],
 "metadata": {
  "kernelspec": {
   "display_name": "Python 3",
   "language": "python",
   "name": "python3"
  },
  "language_info": {
   "codemirror_mode": {
    "name": "ipython",
    "version": 3
   },
   "file_extension": ".py",
   "mimetype": "text/x-python",
   "name": "python",
   "nbconvert_exporter": "python",
   "pygments_lexer": "ipython3",
   "version": "3.6.5"
  }
 },
 "nbformat": 4,
 "nbformat_minor": 2
}
