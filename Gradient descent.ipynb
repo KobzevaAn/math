{
 "cells": [
  {
   "cell_type": "code",
   "execution_count": 85,
   "metadata": {
    "scrolled": true
   },
   "outputs": [],
   "source": [
    "import numpy as np\n",
    "import random\n",
    "import math\n",
    "from numpy.linalg import norm, eig\n",
    "#plot\n",
    "import matplotlib.pyplot as plt\n",
    "%matplotlib inline\n",
    "plt.style.use('bmh')"
   ]
  },
  {
   "cell_type": "code",
   "execution_count": 92,
   "metadata": {
    "scrolled": true
   },
   "outputs": [
    {
     "name": "stdout",
     "output_type": "stream",
     "text": [
      "x_solution =  [ -0.38533198  81.83220259  45.83778009 -14.22445606  45.88131252\n",
      "  36.5023666  -25.77407853  -1.45259447 -84.52255195 -14.8513988\n",
      " -75.64893905 -83.14155973  36.74083816  40.5124644  -36.13055019\n",
      "  32.91179709  85.11109789 -84.55855395 -41.45804891 -17.67978839\n",
      "  34.42932665  31.96149456 -29.3722845   46.27296017  25.37870397\n",
      " -11.56421645 -62.26523952 -22.11083282 -52.87159318 -30.53266395\n",
      "   7.76065117 -26.32476604  76.01147314  15.11460356  90.22987275\n",
      "  72.26991389  80.96440937  17.60432481 -65.53308809 -15.2614835\n",
      " -86.60590124 -74.68931354  47.20526365 -83.66675098  18.95105775\n",
      "  31.40789907  44.86719015 -63.72092411 -25.94516591  24.80049025\n",
      "  13.81159272 -98.95375834  92.54045087 -36.31385349  43.55991748\n",
      "  -4.95131496  69.87678588  71.91773526  40.92006066  76.80978649\n",
      "  90.97915319 -90.82444821 -98.80117785  78.5429705   65.47631437\n",
      "  -6.78958661 -75.77164166 -66.33770767  36.4763533   66.00198158\n",
      "  79.4137423  -14.14273557 -77.66235024 -32.13718255  77.37696914\n",
      "  24.11646579  60.11418893   5.55811202 -48.40981835  56.80064599\n",
      " -58.29443902  56.3049516   35.10456556  29.51022526 -25.11308424\n",
      " -96.12417374  58.45633648  89.08462293 -16.51079051  14.30163229\n",
      " -24.94464811 -54.87802799 -87.00259352  56.29849556  21.06965236\n",
      "  42.83359727  41.49877377 -36.54871617 -16.20908888 -43.17926261] \n",
      " f(x) = 0\n"
     ]
    }
   ],
   "source": [
    "def generate_data(size):\n",
    "    A = np.zeros((size,size))\n",
    "    x = np.zeros(size)\n",
    "    for i in range(size):\n",
    "        for j in range(size):\n",
    "            A[i][j] = random.uniform(-100, 100)\n",
    "        x[i] = random.uniform(-100, 100)\n",
    "    b = A.dot(x)\n",
    "    return A, b, x\n",
    "\n",
    "def f(x):\n",
    "    global A, b\n",
    "    return norm(A.dot(x) - b) ** 2\n",
    "    \n",
    "def grad_f(x):\n",
    "    global A, b\n",
    "    return 2 * (A @ x - b).T @ A\n",
    "\n",
    "def def_alpha():\n",
    "    global A\n",
    "    #собственные значения матрицы 2* A.T @ A\n",
    "    eigenvalues, _ = eig(2 *A.T @ A)\n",
    "    return max(eigenvalues)\n",
    "    \n",
    "def grad_descent(num_iter=100):\n",
    "    global x\n",
    "    f_solution = f(x)\n",
    "    alpha, beta, eps = def_alpha(), 0.1, 0.001\n",
    "    H = ((1 - beta) ** 2) / (alpha * (1 + beta) ** 2)\n",
    "    # в начале градиентного спуска инициализируем значение x какими-нибудь вектором\n",
    "    cur_x = np.ones(100)\n",
    "    steps = [[cur_x, f(cur_x)]]\n",
    "    # итерация цикла -- шаг градиентнго спуска\n",
    "    while  f(cur_x) - f_solution > eps:\n",
    "        steps.append([cur_x, f(cur_x)])\n",
    "        cur_x = cur_x - H * grad_f(cur_x)\n",
    "    return np.array(steps)\n",
    "\n",
    "A,b,x = generate_data(100)\n",
    "steps = grad_descent()\n",
    "print('x_solution = ', steps[-1][0] , '\\n', 'f(x) = %d'%steps[-1][1])"
   ]
  },
  {
   "cell_type": "code",
   "execution_count": 93,
   "metadata": {
    "scrolled": true
   },
   "outputs": [
    {
     "name": "stdout",
     "output_type": "stream",
     "text": [
      "count of steps = 261652\n"
     ]
    }
   ],
   "source": [
    "print('count of steps = %d'%steps.shape[0])"
   ]
  },
  {
   "cell_type": "code",
   "execution_count": 94,
   "metadata": {
    "scrolled": true
   },
   "outputs": [],
   "source": [
    "file = open('solution.txt', 'w')\n",
    "file.write('step \\t function value \\n')\n",
    "for i,step in enumerate(steps):\n",
    "    file.write('%d \\t %f \\n'%(i, step[1]))"
   ]
  },
  {
   "cell_type": "code",
   "execution_count": 96,
   "metadata": {
    "scrolled": true
   },
   "outputs": [
    {
     "data": {
      "text/plain": [
       "Text(0,0.5,'f(cur_x)')"
      ]
     },
     "execution_count": 96,
     "metadata": {},
     "output_type": "execute_result"
    },
    {
     "data": {
      "image/png": "[encoded data removed]",
      "text/plain": [
       "<matplotlib.figure.Figure at 0x14b8f0cf8>"
      ]
     },
     "metadata": {},
     "output_type": "display_data"
    }
   ],
   "source": [
    "f_solution = f(x)\n",
    "f_x_0 = f(steps[0][0])\n",
    "x_axis = [i for i in range(steps.shape[0])]\n",
    "y_axis = [math.log((f[1] - f_solution)/(f_x_0 - f_solution)) for f in steps]\n",
    "plt.scatter(x_axis, y_axis)\n",
    "plt.title('Gradient descent')\n",
    "plt.xlabel('step')\n",
    "plt.ylabel('f(cur_x)')"
   ]
  },
  {
   "cell_type": "code",
   "execution_count": null,
   "metadata": {},
   "outputs": [],
   "source": []
  }
 ],
 "metadata": {
  "kernelspec": {
   "display_name": "Python 3",
   "language": "python",
   "name": "python3"
  },
  "language_info": {
   "codemirror_mode": {
    "name": "ipython",
    "version": 3
   },
   "file_extension": ".py",
   "mimetype": "text/x-python",
   "name": "python",
   "nbconvert_exporter": "python",
   "pygments_lexer": "ipython3",
   "version": "3.6.6"
  }
 },
 "nbformat": 4,
 "nbformat_minor": 2
}
