{
 "cells": [
  {
   "cell_type": "code",
   "execution_count": null,
   "metadata": {},
   "outputs": [],
   "source": [
    "import copy\n",
    "import numpy as np\n",
    "from scipy.linalg import norm\n",
    "from scipy import linalg \n",
    "import math \n",
    "\n"
   ]
  },
  {
   "cell_type": "markdown",
   "metadata": {},
   "source": [
    "#### Решение методом Гаусса"
   ]
  },
  {
   "cell_type": "markdown",
   "metadata": {},
   "source": [
    "Входные параметры:"
   ]
  },
  {
   "cell_type": "code",
   "execution_count": null,
   "metadata": {},
   "outputs": [],
   "source": [
    "eps = 0.0001\n",
    "n=10\n",
    "b = [[1/i]  for i in range(1,n)]\n",
    "a = [[0] * (n) for i in range(n) ]\n",
    "for i in range(n):\n",
    "    for j in range(n):\n",
    "        if i == j:\n",
    "            a[i][j] = 1\n",
    "        else:\n",
    "            a[i][j] = round(1/(i+j+2), 10)\n",
    "#for row in a:\n",
    "#    print(' '.join([str(elem) for elem in row]))\n",
    "#print('\\n')\n",
    "b"
   ]
  },
  {
   "cell_type": "code",
   "execution_count": 2,
   "metadata": {},
   "outputs": [],
   "source": [
    "def gaussFunc(a):\n",
    "    eps = 1e-16\n",
    "\n",
    "    c = numpy.array(a)\n",
    "    a = numpy.array(a)\n",
    "\n",
    "    len1 = len(a[:, 0])\n",
    "    len2 = len(a[0, :])\n",
    "    vectB = copy.deepcopy(a[:, len1])\n",
    "\n",
    "    for g in range(len1):\n",
    "\n",
    "        max = abs(a[g][g])\n",
    "        my = g\n",
    "        t1 = g\n",
    "        while t1 < len1:\n",
    "            if abs(a[t1][g]) > max:\n",
    "                max = abs(a[t1][g])\n",
    "                my = t1\n",
    "            t1 += 1\n",
    "\n",
    "\n",
    "        if my != g:\n",
    "            b = copy.deepcopy(a[g])\n",
    "            a[g] = copy.deepcopy(a[my])\n",
    "            a[my] = copy.deepcopy(b)\n",
    "\n",
    "        amain = float(a[g][g])\n",
    "\n",
    "        z = g\n",
    "        while z < len2:\n",
    "            a[g][z] = a[g][z] / amain\n",
    "            z += 1\n",
    "\n",
    "        j = g + 1\n",
    "\n",
    "        while j < len1:\n",
    "            b = a[j][g]\n",
    "            z = g\n",
    "\n",
    "            while z < len2:\n",
    "                a[j][z] = a[j][z] - a[g][z] * b\n",
    "                z += 1\n",
    "            j += 1\n",
    "\n",
    "    a = backTrace(a, len1, len2)\n",
    "\n",
    "\n",
    "    return a\n",
    "\n",
    "def vectorN(c, a, len1, vectB): \n",
    "    c = numpy.array(c)\n",
    "    a = numpy.array(a)\n",
    "    vectB = numpy.array(vectB)\n",
    "\n",
    "    b = numpy.zeros((len1))\n",
    "\n",
    "    i = 0\n",
    "\n",
    "\n",
    "    while i<len1:\n",
    "        j = 0\n",
    "        while j<len1:\n",
    "\n",
    "            b[i]+=c[i][j]*a[j]\n",
    "\n",
    "            j+=1\n",
    "\n",
    "        i=i+1\n",
    "    c = copy.deepcopy(b)\n",
    "    print(\"!\")\n",
    "\n",
    "    for i in range(len1):\n",
    "        c[i] = abs(c[i] - vectB[i])\n",
    "\n",
    "    return c"
   ]
  },
  {
   "cell_type": "code",
   "execution_count": 3,
   "metadata": {},
   "outputs": [
    {
     "ename": "NameError",
     "evalue": "name 'copy' is not defined",
     "output_type": "error",
     "traceback": [
      "\u001b[1;31m---------------------------------------------------------------------------\u001b[0m",
      "\u001b[1;31mNameError\u001b[0m                                 Traceback (most recent call last)",
      "\u001b[1;32m<ipython-input-3-53c2a2778708>\u001b[0m in \u001b[0;36m<module>\u001b[1;34m()\u001b[0m\n\u001b[0;32m     11\u001b[0m             \u001b[0ma\u001b[0m\u001b[1;33m[\u001b[0m\u001b[0mi\u001b[0m\u001b[1;33m]\u001b[0m\u001b[1;33m[\u001b[0m\u001b[0mj\u001b[0m\u001b[1;33m]\u001b[0m \u001b[1;33m=\u001b[0m \u001b[1;36m1\u001b[0m\u001b[1;33m/\u001b[0m\u001b[1;33m(\u001b[0m\u001b[0mi\u001b[0m\u001b[1;33m+\u001b[0m\u001b[0mj\u001b[0m\u001b[1;33m+\u001b[0m\u001b[1;36m1\u001b[0m\u001b[1;33m)\u001b[0m\u001b[1;33m\u001b[0m\u001b[0m\n\u001b[0;32m     12\u001b[0m \u001b[0mb\u001b[0m\u001b[1;33m=\u001b[0m\u001b[0mnumpy\u001b[0m\u001b[1;33m.\u001b[0m\u001b[0marray\u001b[0m\u001b[1;33m(\u001b[0m\u001b[0ma\u001b[0m\u001b[1;33m)\u001b[0m\u001b[1;33m\u001b[0m\u001b[0m\n\u001b[1;32m---> 13\u001b[1;33m \u001b[0mq\u001b[0m\u001b[1;33m=\u001b[0m\u001b[0mgaussFunc\u001b[0m\u001b[1;33m(\u001b[0m\u001b[0mb\u001b[0m\u001b[1;33m)\u001b[0m\u001b[1;33m\u001b[0m\u001b[0m\n\u001b[0m\u001b[0;32m     14\u001b[0m \u001b[1;31m#for row in a:\u001b[0m\u001b[1;33m\u001b[0m\u001b[1;33m\u001b[0m\u001b[0m\n\u001b[0;32m     15\u001b[0m \u001b[1;31m#    print(' '.join([str(elem) for elem in row]))\u001b[0m\u001b[1;33m\u001b[0m\u001b[1;33m\u001b[0m\u001b[0m\n",
      "\u001b[1;32m<ipython-input-2-6e8f943b6b1d>\u001b[0m in \u001b[0;36mgaussFunc\u001b[1;34m(a)\u001b[0m\n\u001b[0;32m      7\u001b[0m     \u001b[0mlen1\u001b[0m \u001b[1;33m=\u001b[0m \u001b[0mlen\u001b[0m\u001b[1;33m(\u001b[0m\u001b[0ma\u001b[0m\u001b[1;33m[\u001b[0m\u001b[1;33m:\u001b[0m\u001b[1;33m,\u001b[0m \u001b[1;36m0\u001b[0m\u001b[1;33m]\u001b[0m\u001b[1;33m)\u001b[0m\u001b[1;33m\u001b[0m\u001b[0m\n\u001b[0;32m      8\u001b[0m     \u001b[0mlen2\u001b[0m \u001b[1;33m=\u001b[0m \u001b[0mlen\u001b[0m\u001b[1;33m(\u001b[0m\u001b[0ma\u001b[0m\u001b[1;33m[\u001b[0m\u001b[1;36m0\u001b[0m\u001b[1;33m,\u001b[0m \u001b[1;33m:\u001b[0m\u001b[1;33m]\u001b[0m\u001b[1;33m)\u001b[0m\u001b[1;33m\u001b[0m\u001b[0m\n\u001b[1;32m----> 9\u001b[1;33m     \u001b[0mvectB\u001b[0m \u001b[1;33m=\u001b[0m \u001b[0mcopy\u001b[0m\u001b[1;33m.\u001b[0m\u001b[0mdeepcopy\u001b[0m\u001b[1;33m(\u001b[0m\u001b[0ma\u001b[0m\u001b[1;33m[\u001b[0m\u001b[1;33m:\u001b[0m\u001b[1;33m,\u001b[0m \u001b[0mlen1\u001b[0m\u001b[1;33m]\u001b[0m\u001b[1;33m)\u001b[0m\u001b[1;33m\u001b[0m\u001b[0m\n\u001b[0m\u001b[0;32m     10\u001b[0m \u001b[1;33m\u001b[0m\u001b[0m\n\u001b[0;32m     11\u001b[0m     \u001b[1;32mfor\u001b[0m \u001b[0mg\u001b[0m \u001b[1;32min\u001b[0m \u001b[0mrange\u001b[0m\u001b[1;33m(\u001b[0m\u001b[0mlen1\u001b[0m\u001b[1;33m)\u001b[0m\u001b[1;33m:\u001b[0m\u001b[1;33m\u001b[0m\u001b[0m\n",
      "\u001b[1;31mNameError\u001b[0m: name 'copy' is not defined"
     ]
    }
   ],
   "source": [
    "import numpy\n",
    "n = 10\n",
    "a = [[0] * (n + 1) for i in range(n)]\n",
    "for i in range(n):\n",
    "    for j in range(n + 1):\n",
    "        for k in range(n):\n",
    "            a[k][n] = 1/(k+1)  \n",
    "        if i == j:\n",
    "            a[i][j] = 1\n",
    "        else:\n",
    "            a[i][j] = 1/(i+j+1)\n",
    "b=numpy.array(a)\n",
    "q=gaussFunc(b)            \n",
    "#for row in a:\n",
    "#    print(' '.join([str(elem) for elem in row]))\n",
    "print('Решение методом Гаусса')\n",
    "print('\\n Ответ:', q)"
   ]
  },
  {
   "cell_type": "markdown",
   "metadata": {},
   "source": [
    "#### Решение методом Зейделя"
   ]
  },
  {
   "cell_type": "code",
   "execution_count": null,
   "metadata": {},
   "outputs": [],
   "source": [
    "def seidel(A, b, eps):\n",
    "    k = 0\n",
    "    n = len(A)\n",
    "    x = [.0 for i in range(n)]\n",
    "    converge = False\n",
    "    while not converge:\n",
    "        x_new = np.copy(x)\n",
    "        for i in range(n):\n",
    "            k = k + 1\n",
    "            s1 = sum(A[i][j] * x_new[j] for j in range(i))\n",
    "            s2 = sum(A[i][j] * x[j] for j in range(i + 1, n))\n",
    "            x_new[i] = (b[i] - s1 - s2) / A[i][i]\n",
    "            \n",
    "        print('x',k,'=', x_new)\n",
    "        print('x',k+1,'=',x)\n",
    "        converge = sqrt(sum((x_new[i] - x[i]) ** 2 for i in range(n))) <= eps\n",
    "        x = x_new\n",
    "    print(k)\n",
    "    return x\n"
   ]
  },
  {
   "cell_type": "markdown",
   "metadata": {},
   "source": [
    "Итерационный процесс вида $x^{(k+1)}=x^{(k)}B+c$ сходится, когда $\\left\\|B\\right\\|\\lt1$. Проверим это"
   ]
  },
  {
   "cell_type": "code",
   "execution_count": null,
   "metadata": {},
   "outputs": [],
   "source": [
    "def norm1(u):\n",
    "    r = numpy.zeros(n + 1)\n",
    "    j = 0\n",
    "    while j < n:\n",
    "        i = 0\n",
    "        while i < n:\n",
    "            r[j] += abs(u[i][j])\n",
    "            i += 1\n",
    "        j = j + 1\n",
    "    return (max(r)) "
   ]
  },
  {
   "cell_type": "code",
   "execution_count": null,
   "metadata": {
    "scrolled": true
   },
   "outputs": [],
   "source": [
    "#матрица итерационной системы\n",
    "u = [[0] * (n) for i in range(n)]\n",
    "for i in range(n):\n",
    "    for j in range(n):\n",
    "        if i == j:\n",
    "            u[i][j] = 0\n",
    "        else:\n",
    "            u[i][j] = -round(a[i][j]/a[i][i],2)\n",
    "\n",
    "#норма матрицы итерационной системы               \n"
   ]
  },
  {
   "cell_type": "markdown",
   "metadata": {},
   "source": [
    "Следовательно условие сходимости невыполнено "
   ]
  },
  {
   "cell_type": "code",
   "execution_count": null,
   "metadata": {},
   "outputs": [],
   "source": [
    "A = np.array(a)\n",
    "f = np.array(b)\n",
    "x = seidel(a, b, 0.0001)\n",
    "\n"
   ]
  },
  {
   "cell_type": "markdown",
   "metadata": {},
   "source": []
  },
  {
   "cell_type": "code",
   "execution_count": null,
   "metadata": {},
   "outputs": [],
   "source": [
    "#Собственные значения матрицы \n",
    "D, V=numpy.linalg.eig(a)\n",
    "print(D)\n",
    "print('lambda_max',max(D))\n",
    "print('lambda_min',min(D)) \n",
    "    \n",
    "#Число обусловленности     \n",
    "r1=numpy.zeros(n+1)\n",
    "j=0\n",
    "while j<(n):\n",
    "    i = 0\n",
    "    while i<(n):\n",
    "\n",
    "        r1[i]=r1[i]+a[i][j]\n",
    "\n",
    "        i=i+1\n",
    "    j=j+1\n",
    "#print(r1)\n",
    "print('\\n Норма матрицы A=',max(r1))\n",
    "w=numpy.linalg.inv(a)\n",
    "\n",
    "s=numpy.zeros(n)\n",
    "while i<(n): \n",
    "    while j<(n):\n",
    "        s[i][j]+=(a[i][j] * w[j][i])\n",
    "        j+=1\n",
    "    i+=1\n",
    "    \n",
    "r2=numpy.zeros(n+1)\n",
    "j=0\n",
    "while j<(n):\n",
    "    i = 0\n",
    "    while i<(n):\n",
    "\n",
    "        r2[j]+=abs(w[i][j])\n",
    "\n",
    "        i=i+1\n",
    "    j=j+1\n",
    "print('Норма матрицы A^-1=',max(r2))\n",
    "print('m1,2=', max(r1)*max(r2))\n",
    "    \n",
    "    \n",
    "print('\\n') \n",
    "#print(q)\n",
    "\n",
    "i=0\n",
    "x = numpy.zeros((n))\n",
    "while i<(n):\n",
    "        j = 0\n",
    "        while j<(n):\n",
    "            x[i]+=a[i][j]*q[j]  \n",
    "            j+=1\n",
    "        i=i+1\n",
    "   \n",
    "print('\\n Невязка')         \n",
    "print('Ax=',x)\n",
    "i=0\n",
    "while i<(n):\n",
    "    x[i]=abs(x[i]-1/(i+1))  \n",
    "    i+=1\n",
    "\n",
    "f=numpy.zeros(n+1)\n",
    "i=0\n",
    "while i<(n+1):\n",
    "    f[i]=1/(i+1)\n",
    "    i+=1\n",
    "print('\\nf =', f) \n",
    "\n",
    "print('\\n')        \n",
    "print('Ax-f =',x)\n",
    "\n",
    "print('\\n')\n",
    "\n"
   ]
  },
  {
   "cell_type": "markdown",
   "metadata": {},
   "source": [
    "Итерационный метод Зейделя $u^{(k+1)}=-(L+D)^{-1}Uu^{(k)}+(L+D)^{-1}f$"
   ]
  },
  {
   "cell_type": "code",
   "execution_count": null,
   "metadata": {},
   "outputs": [],
   "source": [
    "\n",
    "LD = [[0] * (n) for i in range(n) ]\n",
    "for i in range(n):\n",
    "    for j in range(n):\n",
    "        if i == j:\n",
    "            LD[i][j] = 1\n",
    "        elif i > j:\n",
    "            LD[i][j] = round(1/(i+j+2),2)\n",
    "        else:\n",
    "            LD[i][j] = 0\n",
    "\n",
    "U = [[0] * (n) for i in range(n) ]\n",
    "for i in range(n):\n",
    "    for j in range(n):\n",
    "        if i < j:\n",
    "            U[i][j] = round(1/(i+j+2), 10)\n",
    "        else:\n",
    "            U[i][j] = 0\n",
    "\n",
    "R = -np.dot(linalg.inv(LD), U)\n",
    "F = np.dot(linalg.inv(LD), b)"
   ]
  },
  {
   "cell_type": "code",
   "execution_count": null,
   "metadata": {},
   "outputs": [],
   "source": []
  },
  {
   "cell_type": "code",
   "execution_count": null,
   "metadata": {},
   "outputs": [],
   "source": []
  }
 ],
 "metadata": {
  "kernelspec": {
   "display_name": "Python 3",
   "language": "python",
   "name": "python3"
  },
  "language_info": {
   "codemirror_mode": {
    "name": "ipython",
    "version": 3
   },
   "file_extension": ".py",
   "mimetype": "text/x-python",
   "name": "python",
   "nbconvert_exporter": "python",
   "pygments_lexer": "ipython3",
   "version": "3.6.5"
  }
 },
 "nbformat": 4,
 "nbformat_minor": 2
}
