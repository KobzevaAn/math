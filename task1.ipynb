{
 "cells": [
  {
   "cell_type": "code",
   "execution_count": 1,
   "metadata": {},
   "outputs": [],
   "source": [
    "import copy\n",
    "import numpy as np\n",
    "from scipy.linalg import norm\n",
    "from scipy import linalg \n",
    "import math "
   ]
  },
  {
   "cell_type": "markdown",
   "metadata": {},
   "source": [
    "#### Решение методом Гаусса"
   ]
  },
  {
   "cell_type": "markdown",
   "metadata": {},
   "source": [
    "Входные параметры: "
   ]
  },
  {
   "cell_type": "code",
   "execution_count": 49,
   "metadata": {},
   "outputs": [],
   "source": [
    "n = 10\n",
    "A = [[0] * (n + 1) for i in range(n)]\n",
    "for i in range(n):\n",
    "    for j in range(n + 1):\n",
    "        for k in range(n):\n",
    "            A[k][n] = 1/(k+1)  \n",
    "        if i == j:\n",
    "            A[i][j] = 1\n",
    "        else:\n",
    "            A[i][j] = 1/(i+j+2)\n"
   ]
  },
  {
   "cell_type": "code",
   "execution_count": 45,
   "metadata": {},
   "outputs": [],
   "source": [
    "def gaussFunc(a):\n",
    "    eps = 1e-16\n",
    "\n",
    "    c = numpy.array(a)\n",
    "    a = numpy.array(a)\n",
    "\n",
    "    len1 = len(a[:, 0])\n",
    "    len2 = len(a[0, :])\n",
    "    vectB = copy.deepcopy(a[:, len1])\n",
    "\n",
    "    for g in range(len1):\n",
    "\n",
    "        max = abs(a[g][g])\n",
    "        my = g\n",
    "        t1 = g\n",
    "        while t1 < len1:\n",
    "            # for t1 in range(len(a[:,0])):\n",
    "            if abs(a[t1][g]) > max:\n",
    "                max = abs(a[t1][g])\n",
    "                my = t1\n",
    "            t1 += 1\n",
    "\n",
    "        if abs(max) < eps:\n",
    "            raise DetermExeption(\"Check determinant\")\n",
    "\n",
    "        if my != g:\n",
    "            # a[g][:], a[my][:] = a[my][:], a[g][:]\n",
    "            # numpy.swapaxes(a, 1, 0)\n",
    "            b = copy.deepcopy(a[g])\n",
    "            a[g] = copy.deepcopy(a[my])\n",
    "            a[my] = copy.deepcopy(b)\n",
    "\n",
    "        amain = float(a[g][g])\n",
    "\n",
    "        z = g\n",
    "        while z < len2:\n",
    "            a[g][z] = a[g][z] / amain\n",
    "            z += 1\n",
    "\n",
    "        j = g + 1\n",
    "\n",
    "        while j < len1:\n",
    "            b = a[j][g]\n",
    "            z = g\n",
    "\n",
    "            while z < len2:\n",
    "                a[j][z] = a[j][z] - a[g][z] * b\n",
    "                z += 1\n",
    "            j += 1\n",
    "\n",
    "    a = backTrace(a, len1, len2)\n",
    "\n",
    "\n",
    "    return a\n",
    "\n",
    "\n",
    "class DetermExeption(Exception):\n",
    "    def __init__(self, value):\n",
    "        self.value = value\n",
    "\n",
    "    def __str__(self):\n",
    "        return repr(self.value)\n",
    "\n",
    "\n",
    "def backTrace(a, len1, len2):\n",
    "    a = numpy.array(a)\n",
    "    i = len1 - 1\n",
    "    while i > 0:\n",
    "        j = i - 1\n",
    "\n",
    "        while j >= 0:\n",
    "            a[j][len1] = a[j][len1] - a[j][i] * a[i][len1]\n",
    "            j -= 1\n",
    "        i -= 1\n",
    "    return a[:, len2 - 1]\n",
    "\n",
    "\n",
    "def vectorN(c, a, len1, vectB):  # c-начальная матрица a-ответ len-ранг, vectB-вектор B\n",
    "    c = numpy.array(c)\n",
    "    a = numpy.array(a)\n",
    "    vectB = numpy.array(vectB)\n",
    "\n",
    "    b = numpy.zeros((len1))\n",
    "\n",
    "    i = 0\n",
    "\n",
    "\n",
    "    while i<len1:\n",
    "        j = 0\n",
    "        while j<len1:\n",
    "\n",
    "            b[i]+=c[i][j]*a[j]\n",
    "\n",
    "            j+=1\n",
    "\n",
    "        i=i+1\n",
    "\n",
    "\n",
    "\n",
    "    c = copy.deepcopy(b)\n",
    "    print(\"!\")\n",
    "\n",
    "    for i in range(len1):\n",
    "        c[i] = abs(c[i] - vectB[i])\n",
    "\n",
    "    return c"
   ]
  },
  {
   "cell_type": "code",
   "execution_count": 47,
   "metadata": {},
   "outputs": [
    {
     "name": "stdout",
     "output_type": "stream",
     "text": [
      "\n",
      " Ответ: [ 0.92123854  0.17754425  0.06592651  0.02922762  0.0133203   0.00534375\n",
      "  0.00097653 -0.00155032 -0.00306143 -0.05911641]\n"
     ]
    }
   ],
   "source": [
    "\n",
    "b = numpy.array(A)\n",
    "q = gaussFunc(b)            \n",
    "#for row in a:\n",
    "#    print(' '.join([str(elem) for elem in row]))\n",
    "print('\\n Ответ:', q)"
   ]
  },
  {
   "cell_type": "markdown",
   "metadata": {},
   "source": [
    "##### Невязка:"
   ]
  },
  {
   "cell_type": "code",
   "execution_count": 69,
   "metadata": {},
   "outputs": [
    {
     "name": "stdout",
     "output_type": "stream",
     "text": [
      "Ax = [1.         0.5        0.33333333 0.25       0.2        0.16666667\n",
      " 0.14285714 0.125      0.11111111 0.04761905]\n",
      "\n",
      "f = [1.         0.5        0.33333333 0.25       0.2        0.16666667\n",
      " 0.14285714 0.125      0.11111111 0.1        0.09090909]\n",
      "\n",
      "\n",
      "Ax-f = [1.11022302e-16 1.11022302e-16 5.55111512e-17 1.11022302e-16\n",
      " 0.00000000e+00 0.00000000e+00 0.00000000e+00 4.16333634e-17\n",
      " 1.38777878e-17 5.23809524e-02]\n",
      "\n",
      "\n"
     ]
    }
   ],
   "source": [
    "i=0\n",
    "x = numpy.zeros((n))\n",
    "while i<(n):\n",
    "        j = 0\n",
    "        while j<(n):\n",
    "            x[i]+=a[i][j]*q[j]  \n",
    "            j+=1\n",
    "        i=i+1\n",
    "       \n",
    "print('Ax =',x)\n",
    "i=0\n",
    "while i<(n):\n",
    "    x[i]=abs(x[i]-1/(i+1))  \n",
    "    i+=1\n",
    "\n",
    "f=numpy.zeros(n+1)\n",
    "i=0\n",
    "while i<(n+1):\n",
    "    f[i]=1/(i+1)\n",
    "    i+=1\n",
    "print('\\nf =', f) \n",
    "\n",
    "print('\\n')        \n",
    "print('Ax-f =',x)\n",
    "\n",
    "print('\\n')\n",
    "\n"
   ]
  },
  {
   "cell_type": "markdown",
   "metadata": {},
   "source": [
    "#### Итерационный метод Зейделя $u^{(k+1)}=-(L+D)^{-1}Uu^{(k)}+(L+D)^{-1}f$"
   ]
  },
  {
   "cell_type": "code",
   "execution_count": 52,
   "metadata": {},
   "outputs": [],
   "source": [
    "eps = 0.0001\n",
    "n=10\n",
    "b = [[1/i]  for i in range(1,n+1)]\n",
    "a = [[0] * (n) for i in range(0,n) ]\n",
    "for i in range(n):\n",
    "    for j in range(n):\n",
    "        if i == j:\n",
    "            a[i][j] = 1\n",
    "        else:\n",
    "            a[i][j] = 1/(i+j+2)\n",
    "#for row in a:\n",
    "#    print(' '.join([str(elem) for elem in row]))\n",
    "#print('\\n')\n"
   ]
  },
  {
   "cell_type": "code",
   "execution_count": 188,
   "metadata": {},
   "outputs": [
    {
     "name": "stdout",
     "output_type": "stream",
     "text": [
      "\n",
      " Ответ [[ 0.91769231]\n",
      " [ 0.17873621]\n",
      " [ 0.06320132]\n",
      " [ 0.02615692]\n",
      " [ 0.0083975 ]\n",
      " [ 0.00690428]\n",
      " [ 0.00391325]\n",
      " [-0.00248973]\n",
      " [-0.0048061 ]\n",
      " [-0.00462548]]\n"
     ]
    }
   ],
   "source": [
    "\n",
    "LD = [[0] * (n) for i in range(n) ]\n",
    "for i in range(n):\n",
    "    for j in range(n):\n",
    "        if i == j:\n",
    "            LD[i][j] = 1\n",
    "        elif i > j:\n",
    "            LD[i][j] = round(1/(i+j+2),2)\n",
    "        else:\n",
    "            LD[i][j] = 0\n",
    "\n",
    "U = [[0] * (n) for i in range(n) ]\n",
    "for i in range(n):\n",
    "    for j in range(n):\n",
    "        if i < j:\n",
    "            U[i][j] = round(1/(i+j+2), 10)\n",
    "        else:\n",
    "            U[i][j] = 0\n",
    "\n",
    "R = -np.dot(linalg.inv(LD), U)\n",
    "F = np.dot(linalg.inv(LD), b)\n",
    "\n",
    "u = [.0  for i in range(0,n*n)]\n",
    "u[0] = np.dot(R,F) + F\n",
    "\n",
    "eps = 0.00001\n",
    "i = 0\n",
    "converge = False\n",
    "while not converge:     \n",
    "    u[i + 1] = np.dot(R, u[i]) + F\n",
    "    converge = numpy.linalg.norm((u[i+1] - u[i]))  <= eps\n",
    "    i += 1\n",
    "print('\\n Ответ',  u[i] )"
   ]
  },
  {
   "cell_type": "markdown",
   "metadata": {},
   "source": [
    "#### Невязка:"
   ]
  },
  {
   "cell_type": "code",
   "execution_count": 68,
   "metadata": {},
   "outputs": [
    {
     "name": "stdout",
     "output_type": "stream",
     "text": [
      "Ax= [[1.0], [0.5], [0.3333333333333333], [0.25], [0.2], [0.16666666666666666], [0.14285714285714285], [0.125], [0.1111111111111111], [0.1]]\n",
      "\n",
      "f = [[1.0], [0.5], [0.3333333333333333], [0.25], [0.2], [0.16666666666666666], [0.14285714285714285], [0.125], [0.1111111111111111], [0.1]]\n",
      "\n",
      "\n",
      "Ax-f = [5.31241717e-12 3.05897527e-03 1.33393296e-12 4.15211715e-04\n",
      " 2.20323437e-03 3.59351453e-03 4.81758429e-03 1.13528367e-03\n",
      " 2.94369028e-04 1.25603748e-03]\n",
      "\n",
      "\n"
     ]
    }
   ],
   "source": [
    "i=0\n",
    "y = numpy.zeros((n))\n",
    "while i<(n):\n",
    "        j = 0\n",
    "        while j<(n):\n",
    "            y[i]+=a[i][j]*w[j]  \n",
    "            j+=1\n",
    "        i=i+1\n",
    "   \n",
    "        \n",
    "print('Ax =',b)\n",
    "i=0\n",
    "while i<(n):\n",
    "    y[i]=abs(y[i]-1/(i+1))  \n",
    "    i+=1\n",
    "\n",
    "print('\\nf =', b) \n",
    "\n",
    "print('\\n')        \n",
    "print('Ax-f =',y)\n",
    "\n",
    "print('\\n')\n"
   ]
  },
  {
   "cell_type": "markdown",
   "metadata": {},
   "source": [
    "#### Собственные значения матрицы $A$"
   ]
  },
  {
   "cell_type": "markdown",
   "metadata": {},
   "source": [
    "Наибольшее собственное значение матрицы $A$ по формуле $\\dfrac{(u^{(k+1)}u^{(k)})}{(u^{(k)},u^{(k)})}$"
   ]
  },
  {
   "cell_type": "code",
   "execution_count": 195,
   "metadata": {},
   "outputs": [
    {
     "name": "stdout",
     "output_type": "stream",
     "text": [
      "\n",
      " max собственное значение = 2.048357259579568\n"
     ]
    }
   ],
   "source": [
    "n = 10\n",
    "t = [[0]*(n) for i in range(n+1) ]\n",
    "t[0] = [1  for i in range(n) ]#Первое приближение\n",
    "\n",
    "#D, V=numpy.linalg.eig(a)\n",
    "#print(D)\n",
    "#print('lambda_max',max(D))\n",
    "#print('lambda_min',min(D)) \n",
    "\n",
    "i=0\n",
    "j=1\n",
    "eps = 0.00001\n",
    "converge = False\n",
    "while not converge:\n",
    "    \n",
    "    t[i+1] = np.dot(a, t[i])\n",
    "    t[i+2] = np.dot(a, t[i+1])\n",
    "    li = np.dot(t[i+1], t[i])/ np.dot(t[i], t[i])\n",
    "    lj = np.dot(t[i+2], t[i+1])/ np.dot(t[i+1], t[i+1])\n",
    "    converge = numpy.linalg.norm(li-lj)  <= eps\n",
    "    i += 1\n",
    "    j += 1\n",
    "print('\\n max собственное значение =', lj)\n"
   ]
  },
  {
   "cell_type": "markdown",
   "metadata": {},
   "source": [
    "Найдем минимальное собственное значение как $\\dfrac{1}{q_{max}}$, где $q_{max}$ - максимальное собственное значение матрицы $A^{-1}$"
   ]
  },
  {
   "cell_type": "code",
   "execution_count": 194,
   "metadata": {},
   "outputs": [
    {
     "name": "stdout",
     "output_type": "stream",
     "text": [
      "\n",
      " min собственное значение матрицы A =  1.552397965025233\n"
     ]
    }
   ],
   "source": [
    "n = 10\n",
    "t = [[0]*(n+1) for i in range(n*n) ]\n",
    "t[0] = [1  for i in range(n) ]#Первое приближение\n",
    "\n",
    "r = linalg.inv(a)\n",
    "\n",
    "i=0\n",
    "j=1\n",
    "eps = 0.00001\n",
    "converge = False\n",
    "while not converge:\n",
    "    \n",
    "    t[i+1] = np.dot(r, t[i])\n",
    "    t[j+1] = np.dot(r, t[i+1])\n",
    "    qi = np.dot(t[i+1], t[i])/ np.dot(t[i], t[i])\n",
    "    qj = np.dot(t[j+1], t[i+1])/ np.dot(t[i+1], t[i+1])\n",
    "    converge = numpy.linalg.norm(li-lj)  <= eps\n",
    "    i += 1\n",
    "    j += 1\n",
    "\n",
    "print('\\n min собственное значение матрицы A = ', 1/qj)"
   ]
  },
  {
   "cell_type": "markdown",
   "metadata": {},
   "source": [
    "#### Норма матрицы $A$"
   ]
  },
  {
   "cell_type": "markdown",
   "metadata": {},
   "source": [
    "Число обусловленности в первой и второй нормах $\\|A\\|>\\dfrac{\\|Au\\|}{\\|u\\|}$"
   ]
  },
  {
   "cell_type": "code",
   "execution_count": 210,
   "metadata": {},
   "outputs": [
    {
     "name": "stdout",
     "output_type": "stream",
     "text": [
      "1.0427924967893238\n",
      "1.0946167835545506\n"
     ]
    }
   ],
   "source": [
    "e  = [1  for i in range(n) ]\n",
    "print(linalg.norm(np.dot(a, e), ord=1)/linalg.norm(e, ord=1)*linalg.norm(np.dot(r, e), ord=1)/linalg.norm(e, ord=1))\n",
    "print(linalg.norm(np.dot(a, e), ord=2)/linalg.norm(e, ord=2)*linalg.norm(np.dot(r, e), ord=2)/linalg.norm(e, ord=2))\n"
   ]
  },
  {
   "cell_type": "markdown",
   "metadata": {},
   "source": [
    "Для третей нормы $\\|A\\|_3=\\sqrt{(max\\lambda)^2}$"
   ]
  },
  {
   "cell_type": "code",
   "execution_count": 197,
   "metadata": {},
   "outputs": [
    {
     "data": {
      "text/plain": [
       "1.319479479958139"
      ]
     },
     "execution_count": 197,
     "metadata": {},
     "output_type": "execute_result"
    }
   ],
   "source": [
    "lj*qj"
   ]
  },
  {
   "cell_type": "code",
   "execution_count": null,
   "metadata": {},
   "outputs": [],
   "source": []
  }
 ],
 "metadata": {
  "kernelspec": {
   "display_name": "Python 3",
   "language": "python",
   "name": "python3"
  },
  "language_info": {
   "codemirror_mode": {
    "name": "ipython",
    "version": 3
   },
   "file_extension": ".py",
   "mimetype": "text/x-python",
   "name": "python",
   "nbconvert_exporter": "python",
   "pygments_lexer": "ipython3",
   "version": "3.6.5"
  }
 },
 "nbformat": 4,
 "nbformat_minor": 2
}
