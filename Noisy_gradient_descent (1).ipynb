{
 "cells": [
  {
   "cell_type": "code",
   "execution_count": 1,
   "metadata": {
    "scrolled": true
   },
   "outputs": [],
   "source": [
    "import numpy as np\n",
    "import random\n",
    "import math\n",
    "from numpy.linalg import norm, eig\n",
    "#plot\n",
    "import matplotlib.pyplot as plt\n",
    "%matplotlib inline\n",
    "plt.style.use('bmh')"
   ]
  },
  {
   "cell_type": "markdown",
   "metadata": {},
   "source": [
    "\n",
    "##### Noisy gradient $$x_{k+1}=x_k-h\\nabla g(x_k), h=\\frac{1+\\beta}{L(1-\\beta)^2}, \\|\\nabla f(x) - g(x)\\|\\leq\\beta\\|\\nabla f(x)\\| $$"
   ]
  },
  {
   "cell_type": "code",
   "execution_count": 2,
   "metadata": {
    "scrolled": true
   },
   "outputs": [],
   "source": [
    "def generate_data(size):\n",
    "    A = np.random.randn(size,size)\n",
    "    x = np.random.randn(size)\n",
    "    b = A.dot(x)\n",
    "    AA=2*A.T.dot(A)\n",
    "    Ab=2*A.T.dot(b)\n",
    "    return A, b, x, AA, Ab\n",
    "\n",
    "def f(x):\n",
    "    global A, b\n",
    "    return norm(A@x  - b) ** 2\n",
    "    \n",
    "def grad_f(x):\n",
    "    global AA, Ab\n",
    "    return AA.dot(x) - Ab \n",
    "\n",
    "def def_alpha():\n",
    "    global AA\n",
    "    #собственные значения матрицы 2* A.T @ A\n",
    "    eigenvalues, _ = eig(AA)\n",
    "    return max(eigenvalues), min(eigenvalues)\n",
    "    \n",
    "def grad_descent(beta, eps):\n",
    "    global x, size\n",
    "    f_solution = f(x)\n",
    "    alpha, mu = def_alpha() \n",
    "    print (alpha,mu)\n",
    "    H = (1 - beta) / (alpha * (1 + beta) ** 2)\n",
    "    # в начале градиентного спуска инициализируем значение x какими-нибудь вектором\n",
    "    cur_x = np.ones(size)\n",
    "    print(f(cur_x))\n",
    "    steps = [[cur_x, f(cur_x)]]\n",
    "    # итерация цикла -- шаг градиентнго спуска\n",
    "    while  f(cur_x) - f_solution > eps:\n",
    "        steps.append([cur_x, f(cur_x)])\n",
    "        norm_vector = beta * norm(grad_f(cur_x))\n",
    "        random_vector = np.random.randn(size)\n",
    "        normalize_vector = random_vector * norm_vector / norm(random_vector)\n",
    "        cur_x = cur_x - H * (grad_f(cur_x) + normalize_vector)\n",
    "    steps.append([cur_x, f(cur_x)])\n",
    "    return np.array(steps)"
   ]
  },
  {
   "cell_type": "code",
   "execution_count": 6,
   "metadata": {},
   "outputs": [],
   "source": [
    "size = 100\n",
    "A,b,x, AA, Ab = generate_data(size)\n",
    "betta, eps = 0.1, 0.001"
   ]
  },
  {
   "cell_type": "code",
   "execution_count": 4,
   "metadata": {},
   "outputs": [
    {
     "name": "stdout",
     "output_type": "stream",
     "text": [
      "766.9092908559508 0.0016374867939374681\n",
      "21051.17446886883\n",
      "x_solution =  [ 0.22690411 -0.09524423 -0.58373949 -0.76816183 -0.53440944 -1.28598268\n",
      " -0.69371537  2.20764915  1.02410321  0.28255552  0.84548864  0.51394014\n",
      "  1.23282663 -0.79566559 -0.63451915  0.62732359  0.58783089  0.18620064\n",
      " -1.19023891 -1.36859002  0.11059485 -0.52111665  1.47033214 -1.42342849\n",
      " -2.07227592 -0.23541192 -0.61663964 -0.87218907 -0.73269774 -0.377147\n",
      "  1.8447891   0.74864475  0.92071505  0.79513866 -1.72319152 -0.12981062\n",
      " -0.81408254  0.00524414  0.08733669 -0.12249117 -1.22497229 -2.19882674\n",
      "  0.66915453  0.54612034  0.22608762  0.62881298 -0.52142652 -0.95113945\n",
      " -1.34410781  0.97610356 -0.49878455 -0.76702812  0.38290364 -0.16283921\n",
      "  0.34034608 -0.25808452  0.35367223 -1.65767294  0.13727051 -0.13664321\n",
      " -0.43731121  0.23576302  0.38134152 -0.86227732 -0.76721912 -0.62042916\n",
      " -1.00507312  2.32773562 -0.62975902 -0.14221809 -0.99220544  0.53488578\n",
      "  0.8502568   0.39828011 -1.87053664  0.70826289 -1.35753114 -0.23537352\n",
      " -0.91929932 -0.60808411  0.30011954  0.04363296 -0.45111984 -0.17995938\n",
      " -0.42200408  0.97499798 -0.41935846 -0.25550534  0.80832458  0.8836162\n",
      " -1.34385525  0.33096711  0.50574552  0.38824961 -0.39169984 -0.74899706\n",
      "  0.06413155  0.97783457 -0.23527861 -0.86690071] \n",
      " f(x) = 0.00100\n"
     ]
    }
   ],
   "source": [
    "steps = grad_descent(betta,eps)\n",
    "print('x_solution = ', steps[-1][0] , '\\n', 'f(x) = %.5f'%steps[-1][1])"
   ]
  },
  {
   "cell_type": "code",
   "execution_count": 7,
   "metadata": {
    "scrolled": true
   },
   "outputs": [
    {
     "name": "stdout",
     "output_type": "stream",
     "text": [
      "count of steps = 41750\n"
     ]
    }
   ],
   "source": [
    "print('count of steps = %d'%steps.shape[0])"
   ]
  },
  {
   "cell_type": "code",
   "execution_count": 8,
   "metadata": {},
   "outputs": [
    {
     "name": "stdout",
     "output_type": "stream",
     "text": [
      "[-0.87064058  0.13117175  0.72948239  1.29514408 -1.82947954 -1.00210243\n",
      " -0.61600861  1.51427964 -0.33233616  1.38072114  1.21718883  0.55492559\n",
      " -0.23022413 -0.10072931  0.60796999 -0.02264603 -0.66511307 -1.61524701\n",
      "  0.71927768 -1.86932899 -0.60312651 -0.40099219  0.63878412  0.56836495\n",
      "  1.004341   -0.46567797 -0.93244435  0.7491725   0.27721485 -0.99562355\n",
      " -1.99109919  0.02823363  1.12532032 -0.68841315 -2.05927766 -0.14857445\n",
      "  1.87219525  1.32562976  1.10904001  0.93002371  2.11948518  0.17423628\n",
      " -0.78025046  0.38509381 -0.65367863  0.8961086  -0.24630801  1.39284709\n",
      "  0.9852919  -0.53506962 -0.65302028 -1.16337278 -2.05083831  0.72846852\n",
      " -1.07984688  0.60280206 -1.74497171  1.15774899  0.18580342 -0.40006116\n",
      " -1.87706357 -0.58635903  0.37454038  0.47567087 -0.09888481 -0.45707382\n",
      " -0.1979458  -0.18648427 -1.1488933  -1.57931631 -0.85726258  1.03616377\n",
      "  1.33244589 -0.77990224 -0.07663442  0.71053534  0.36240346 -0.91405206\n",
      " -0.99808328  0.18220949 -1.25639297  0.79620637 -1.14922286  0.72101087\n",
      "  0.13378293 -0.49563987  0.01280337 -0.60457494  0.54870035 -0.26271057\n",
      "  0.46066271 -3.17713802 -1.43218106  1.12124045  0.50399855 -0.64250036\n",
      "  1.46364835  2.11925272 -0.28687903  0.39184967]\n"
     ]
    }
   ],
   "source": [
    "print(x) "
   ]
  },
  {
   "cell_type": "code",
   "execution_count": 58,
   "metadata": {
    "scrolled": true
   },
   "outputs": [],
   "source": [
    "file = open('solution.txt', 'w')\n",
    "file.write('step \\t function value \\n')\n",
    "for i,step in enumerate(steps):\n",
    "    file.write('%d \\t %f \\n'%(i, step[1]))"
   ]
  },
  {
   "cell_type": "code",
   "execution_count": 9,
   "metadata": {
    "scrolled": true
   },
   "outputs": [
    {
     "data": {
      "text/plain": [
       "Text(0, 0.5, 'f(cur_x)')"
      ]
     },
     "execution_count": 9,
     "metadata": {},
     "output_type": "execute_result"
    },
    {
     "data": {
      "image/png": "[encoded data removed]",
      "text/plain": [
       "<Figure size 432x288 with 1 Axes>"
      ]
     },
     "metadata": {
      "needs_background": "light"
     },
     "output_type": "display_data"
    }
   ],
   "source": [
    "f_solution = f(x)\n",
    "f_x_0 = f(steps[0][0])\n",
    "x_axis = [i for i in range(steps.shape[0])]\n",
    "y_axis = [math.log((f[1] - f_solution)/(f_x_0 - f_solution),10) for f in steps]\n",
    "plt.scatter(x_axis, y_axis)\n",
    "plt.title('Gradient descent')\n",
    "plt.xlabel('step')\n",
    "plt.ylabel('f(cur_x)')"
   ]
  },
  {
   "cell_type": "markdown",
   "metadata": {},
   "source": [
    "#### Fast Gradient $$ x^{md}_k=\\beta_k^{-1}x_k+(1-\\beta_k^{-1})x_k^{ag} $$ $$x_{k+1}=x_k-\\gamma_k\\nabla f(x_k^{md}) $$$$x_{k+1}^{ag}=\\beta_k^{-1}x_{k+1}+(1-\\beta_k^{-1})x_k^{ag} $$$$\\beta_k=\\dfrac{k+1}{2},\\gamma_k=\\dfrac{k+1}{4L} $$"
   ]
  },
  {
   "cell_type": "code",
   "execution_count": 10,
   "metadata": {},
   "outputs": [],
   "source": [
    "def fast_grad_descent(eps):\n",
    "    global x, size\n",
    "    f_solution = f(x)\n",
    "    beta = 1\n",
    "    alpha, _ = def_alpha()\n",
    "    gamma = 1 / (2 * alpha) \n",
    "    # в начале градиентного спуска инициализируем значение x какими-нибудь вектором\n",
    "    cur_x = np.ones(size)\n",
    "    cur_x_ag = np.ones(size)\n",
    "    cur_x_md = np.ones(size)\n",
    "    cur_x_md = 1 / beta * cur_x + (1 - 1 / beta) * cur_x_ag\n",
    "    step_k = 1\n",
    "    steps = [[cur_x, f(cur_x_ag)]]\n",
    "    # итерация цикла -- шаг градиентнго спуска\n",
    "    while f(cur_x_ag) - f_solution > eps:\n",
    "        step_k += 1\n",
    "        steps.append([cur_x, f(cur_x_ag)])\n",
    "        beta = (step_k + 1) / 2\n",
    "        gamma = (1 + step_k) / (4 * alpha)\n",
    "        cur_x = cur_x - gamma * grad_f(cur_x_md)\n",
    "        cur_x_ag = 1 / beta * cur_x + (1 - 1 / beta) * cur_x_ag\n",
    "        cur_x_md = 1 / beta * cur_x + (1 - 1 / beta) * cur_x_ag\n",
    "    steps.append([cur_x_ag, f(cur_x_ag)])\n",
    "    return np.array(steps)"
   ]
  },
  {
   "cell_type": "code",
   "execution_count": 11,
   "metadata": {},
   "outputs": [
    {
     "name": "stdout",
     "output_type": "stream",
     "text": [
      "x_solution =  [-0.86157203  0.12773166  0.72594949  1.30657369 -1.83382795 -1.00995042\n",
      " -0.61343661  1.51553483 -0.3374271   1.36957406  1.2178595   0.54712951\n",
      " -0.2262223  -0.10744195  0.60809416 -0.04039804 -0.65949387 -1.61087718\n",
      "  0.72521737 -1.88073022 -0.61063933 -0.40075079  0.63600608  0.56220705\n",
      "  1.01056644 -0.45721653 -0.9246961   0.75356556  0.27755569 -1.01126721\n",
      " -2.00106477  0.03648708  1.12478543 -0.69547393 -2.0519258  -0.14979474\n",
      "  1.8624375   1.32685696  1.11579551  0.93543188  2.12731604  0.17975763\n",
      " -0.79301377  0.3855581  -0.64632117  0.88288676 -0.23982446  1.39615804\n",
      "  0.98322053 -0.52899465 -0.65443045 -1.15665733 -2.05330333  0.7218224\n",
      " -1.07526083  0.59277914 -1.73339818  1.16765348  0.17958703 -0.38125818\n",
      " -1.87352499 -0.59271514  0.38496862  0.47925003 -0.10619542 -0.45364966\n",
      " -0.20864511 -0.18753418 -1.1386274  -1.57615156 -0.86573091  1.04547139\n",
      "  1.34321027 -0.77930789 -0.09113545  0.7085489   0.36790103 -0.90018057\n",
      " -0.99422142  0.19099183 -1.25297657  0.7997425  -1.14603351  0.71815487\n",
      "  0.1464602  -0.50363862  0.00598918 -0.6028631   0.53848071 -0.2676991\n",
      "  0.45328497 -3.18664042 -1.44659601  1.13091857  0.51159458 -0.63953903\n",
      "  1.46479506  2.1137648  -0.28065635  0.40289433] \n",
      " f(x) = 0.00099\n"
     ]
    }
   ],
   "source": [
    "steps = fast_grad_descent(eps)\n",
    "print('x_solution = ', steps[-1][0] , '\\n', 'f(x) = %.5f'%steps[-1][1])"
   ]
  },
  {
   "cell_type": "code",
   "execution_count": 12,
   "metadata": {},
   "outputs": [
    {
     "name": "stdout",
     "output_type": "stream",
     "text": [
      "count of steps = 581\n"
     ]
    }
   ],
   "source": [
    "print('count of steps = %d'%steps.shape[0])"
   ]
  },
  {
   "cell_type": "code",
   "execution_count": 13,
   "metadata": {},
   "outputs": [
    {
     "data": {
      "text/plain": [
       "Text(0, 0.5, 'f(cur_x)')"
      ]
     },
     "execution_count": 13,
     "metadata": {},
     "output_type": "execute_result"
    },
    {
     "data": {
      "image/png": "[encoded data removed]",
      "text/plain": [
       "<Figure size 432x288 with 1 Axes>"
      ]
     },
     "metadata": {
      "needs_background": "light"
     },
     "output_type": "display_data"
    }
   ],
   "source": [
    "f_solution = f(x)\n",
    "f_x_0 = f(steps[0][0])\n",
    "x_axis = [i for i in range(steps.shape[0])]\n",
    "y_axis = [math.log((f[1] - f_solution)/(f_x_0 - f_solution),10) for f in steps]\n",
    "plt.scatter(x_axis, y_axis)\n",
    "plt.title('Gradient descent')\n",
    "plt.xlabel('step')\n",
    "plt.ylabel('f(cur_x)')"
   ]
  },
  {
   "cell_type": "markdown",
   "metadata": {},
   "source": [
    "#### Fast Noizy Gradient"
   ]
  },
  {
   "cell_type": "markdown",
   "metadata": {},
   "source": [
    " $$ x^{md}_k=\\beta_k^{-1}x_k+(1-\\beta_k^{-1})x_k^{ag} $$ $$x_{k+1}=x_k-\\gamma_k g(x_k^{md}) $$$$x_{k+1}^{ag}=\\beta_k^{-1}x_{k+1}+(1-\\beta_k^{-1})x_k^{ag} $$ $$\\beta_k=\\dfrac{k+1}{2},\\gamma_k=\\dfrac{k+1}{4L} $$"
   ]
  },
  {
   "cell_type": "markdown",
   "metadata": {},
   "source": [
    "\n",
    " where $$\\|\\nabla f(x) - g(x)\\|\\leq\\beta\\|\\nabla f(x)\\| $$"
   ]
  },
  {
   "cell_type": "code",
   "execution_count": 14,
   "metadata": {},
   "outputs": [],
   "source": [
    "def fast_noisy_grad_descent(eps, betta):\n",
    "    global x, size\n",
    "    f_solution = f(x) \n",
    "    beta = 1\n",
    "    alpha, _ = def_alpha()\n",
    "    gamma = 1 / (2 * alpha) \n",
    "    # в начале градиентного спуска инициализируем значение x какими-нибудь вектором\n",
    "    cur_x = np.ones(size)\n",
    "    cur_x_ag = np.ones(size)\n",
    "    cur_x_md = np.ones(size)\n",
    "    cur_x_md = 1 / beta * cur_x + (1 - 1 / beta) * cur_x_ag\n",
    "    step_k = 1\n",
    "    steps = [[cur_x, f(cur_x_ag)]]\n",
    "    # итерация цикла -- шаг градиентнго спуска\n",
    "    while f(cur_x_ag) - f_solution > eps:\n",
    "        step_k += 1\n",
    "        steps.append([cur_x, f(cur_x_ag)])\n",
    "        beta = (step_k + 1) / 2\n",
    "        gamma = (1 + step_k) / (4 * alpha)\n",
    "        norm_vector = betta * norm(grad_f(cur_x_md))\n",
    "        random_vector = np.random.randn(size)\n",
    "        normalize_vector = random_vector * norm_vector / norm(random_vector)\n",
    "        cur_x = cur_x - gamma * (grad_f(cur_x_md) + normalize_vector)\n",
    "        cur_x_ag = 1 / beta * cur_x + (1 - 1 / beta) * cur_x_ag\n",
    "        cur_x_md = 1 / beta * cur_x + (1 - 1 / beta) * cur_x_ag\n",
    "    steps.append([cur_x_ag, f(cur_x_ag)])\n",
    "    return np.array(steps)"
   ]
  },
  {
   "cell_type": "code",
   "execution_count": 15,
   "metadata": {},
   "outputs": [
    {
     "name": "stdout",
     "output_type": "stream",
     "text": [
      "x_solution =  [-0.86782998  0.12593022  0.73311297  1.28193053 -1.81971835 -0.99421504\n",
      " -0.60562376  1.51812385 -0.3238996   1.40079796  1.21712788  0.54496336\n",
      " -0.20271609 -0.09824429  0.61138676 -0.0211684  -0.6748456  -1.62107957\n",
      "  0.70965715 -1.8267713  -0.58513469 -0.40286319  0.63283124  0.58098155\n",
      "  1.02327778 -0.4733597  -0.93547454  0.76163339  0.27379706 -0.97700851\n",
      " -1.98865076  0.02676729  1.13928084 -0.68400803 -2.06721843 -0.13616952\n",
      "  1.8809816   1.32441162  1.0914148   0.91272193  2.10927923  0.1596259\n",
      " -0.7814394   0.37305551 -0.65989993  0.9175584  -0.24340495  1.3975494\n",
      "  0.98936806 -0.53607729 -0.67173803 -1.16232646 -2.05482152  0.72757038\n",
      " -1.08727299  0.62441047 -1.74641483  1.15333075  0.18329012 -0.40480889\n",
      " -1.89202612 -0.59614268  0.36658309  0.47335704 -0.09852569 -0.46292044\n",
      " -0.20112793 -0.17259993 -1.15434581 -1.58604272 -0.86189336  1.02746739\n",
      "  1.31618742 -0.78524775 -0.06843432  0.72135249  0.34907818 -0.94137247\n",
      " -1.00449685  0.17493706 -1.25574312  0.80635004 -1.16282725  0.71280241\n",
      "  0.13352282 -0.49883152  0.01953956 -0.60317246  0.54866102 -0.26967485\n",
      "  0.47030751 -3.16734427 -1.43076575  1.11189146  0.49557473 -0.64234695\n",
      "  1.47480793  2.13263131 -0.29521196  0.36933208] \n",
      " f(x) = 0.00099\n"
     ]
    }
   ],
   "source": [
    "betta=0.2\n",
    "steps = fast_noisy_grad_descent(eps, betta)\n",
    "print('x_solution = ', steps[-1][0] , '\\n', 'f(x) = %.5f'%steps[-1][1])"
   ]
  },
  {
   "cell_type": "code",
   "execution_count": 16,
   "metadata": {},
   "outputs": [
    {
     "name": "stdout",
     "output_type": "stream",
     "text": [
      "count of steps = 583\n"
     ]
    }
   ],
   "source": [
    "print('count of steps = %d'%steps.shape[0])"
   ]
  },
  {
   "cell_type": "code",
   "execution_count": 17,
   "metadata": {},
   "outputs": [
    {
     "name": "stdout",
     "output_type": "stream",
     "text": [
      "[-0.87064058  0.13117175  0.72948239  1.29514408 -1.82947954 -1.00210243\n",
      " -0.61600861  1.51427964 -0.33233616  1.38072114  1.21718883  0.55492559\n",
      " -0.23022413 -0.10072931  0.60796999 -0.02264603 -0.66511307 -1.61524701\n",
      "  0.71927768 -1.86932899 -0.60312651 -0.40099219  0.63878412  0.56836495\n",
      "  1.004341   -0.46567797 -0.93244435  0.7491725   0.27721485 -0.99562355\n",
      " -1.99109919  0.02823363  1.12532032 -0.68841315 -2.05927766 -0.14857445\n",
      "  1.87219525  1.32562976  1.10904001  0.93002371  2.11948518  0.17423628\n",
      " -0.78025046  0.38509381 -0.65367863  0.8961086  -0.24630801  1.39284709\n",
      "  0.9852919  -0.53506962 -0.65302028 -1.16337278 -2.05083831  0.72846852\n",
      " -1.07984688  0.60280206 -1.74497171  1.15774899  0.18580342 -0.40006116\n",
      " -1.87706357 -0.58635903  0.37454038  0.47567087 -0.09888481 -0.45707382\n",
      " -0.1979458  -0.18648427 -1.1488933  -1.57931631 -0.85726258  1.03616377\n",
      "  1.33244589 -0.77990224 -0.07663442  0.71053534  0.36240346 -0.91405206\n",
      " -0.99808328  0.18220949 -1.25639297  0.79620637 -1.14922286  0.72101087\n",
      "  0.13378293 -0.49563987  0.01280337 -0.60457494  0.54870035 -0.26271057\n",
      "  0.46066271 -3.17713802 -1.43218106  1.12124045  0.50399855 -0.64250036\n",
      "  1.46364835  2.11925272 -0.28687903  0.39184967]\n"
     ]
    }
   ],
   "source": [
    "print(x) "
   ]
  },
  {
   "cell_type": "code",
   "execution_count": 18,
   "metadata": {},
   "outputs": [
    {
     "data": {
      "text/plain": [
       "Text(0, 0.5, 'f(cur_x)')"
      ]
     },
     "execution_count": 18,
     "metadata": {},
     "output_type": "execute_result"
    },
    {
     "data": {
      "image/png": "[encoded data removed]",
      "text/plain": [
       "<Figure size 432x288 with 1 Axes>"
      ]
     },
     "metadata": {
      "needs_background": "light"
     },
     "output_type": "display_data"
    }
   ],
   "source": [
    "f_solution = f(x)\n",
    "f_x_0 = f(steps[0][0])\n",
    "x_axis = [i for i in range(steps.shape[0])]\n",
    "y_axis = [math.log((f[1] - f_solution)/(f_x_0 - f_solution),10) for f in steps]\n",
    "plt.scatter(x_axis, y_axis)\n",
    "plt.title('Gradient descent')\n",
    "plt.xlabel('step')\n",
    "plt.ylabel('f(cur_x)')"
   ]
  },
  {
   "cell_type": "code",
   "execution_count": null,
   "metadata": {},
   "outputs": [],
   "source": []
  }
 ],
 "metadata": {
  "kernelspec": {
   "display_name": "Python 3",
   "language": "python",
   "name": "python3"
  },
  "language_info": {
   "codemirror_mode": {
    "name": "ipython",
    "version": 3
   },
   "file_extension": ".py",
   "mimetype": "text/x-python",
   "name": "python",
   "nbconvert_exporter": "python",
   "pygments_lexer": "ipython3",
   "version": "3.7.3"
  }
 },
 "nbformat": 4,
 "nbformat_minor": 2
}
