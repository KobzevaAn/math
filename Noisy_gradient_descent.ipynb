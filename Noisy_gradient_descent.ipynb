{
 "cells": [
  {
   "cell_type": "code",
   "execution_count": 1,
   "metadata": {
    "scrolled": true
   },
   "outputs": [],
   "source": [
    "import numpy as np\n",
    "import random\n",
    "import math\n",
    "from numpy.linalg import norm, eig\n",
    "#plot\n",
    "import matplotlib.pyplot as plt\n",
    "%matplotlib inline\n",
    "plt.style.use('bmh')"
   ]
  },
  {
   "cell_type": "markdown",
   "metadata": {},
   "source": [
    "\n",
    "##### Noisy gradient $$x_{k+1}=x_k-h\\nabla g(x_k), h=\\frac{1+\\beta}{L(1-\\beta)^2}, \\|\\nabla f(x) - g(x)\\|\\leq\\beta\\|\\nabla f(x)\\| $$"
   ]
  },
  {
   "cell_type": "code",
   "execution_count": 2,
   "metadata": {
    "scrolled": true
   },
   "outputs": [
    {
     "name": "stdout",
     "output_type": "stream",
     "text": [
      "x_solution =  [ 8.81156074e-01 -4.39000907e-01 -1.98521811e+00 -5.52264492e-02\n",
      "  1.10235737e+00  1.30813405e+00  7.27952232e-01  4.74928940e-01\n",
      "  1.24443303e+00  5.98913372e-01 -6.61449674e-01  5.88136920e-01\n",
      " -1.98707024e-01  5.09858814e-01 -1.23958182e+00  8.48339698e-01\n",
      "  1.62679494e+00 -5.78168658e-01  1.84073423e-01 -1.44623220e-01\n",
      "  1.85386738e-01  2.47433964e-01 -7.95365256e-01  6.87901155e-01\n",
      " -4.08055998e-01  9.54761980e-02  8.64575960e-02 -9.14706918e-01\n",
      " -1.29109153e+00 -2.08255330e+00 -1.81271427e+00  1.44965787e-01\n",
      " -1.48398599e+00  6.64418434e-02 -9.76532690e-01 -7.11230169e-01\n",
      " -1.01365853e-01 -1.30515992e+00  1.71473758e+00  1.30876654e+00\n",
      "  1.20712698e+00  2.03786105e+00  1.74689192e+00  2.32953001e+00\n",
      " -3.63663203e-01  3.09369120e-01  1.70771410e+00  1.80353535e-01\n",
      "  4.86350971e-01  9.16078326e-01 -4.51692549e-01  5.70590958e-01\n",
      " -1.86568604e-01 -2.43332200e-01  8.66382513e-01  5.51491904e-01\n",
      " -4.49955064e-02 -1.70150753e-02 -2.90293966e-01 -1.39280997e+00\n",
      "  8.65347639e-01  7.23634318e-01 -9.40078129e-01 -4.58159112e-01\n",
      " -5.81971782e-01 -7.52088395e-02 -1.73802896e-01 -6.13963644e-01\n",
      "  2.36644500e-01 -1.09522312e+00 -9.91807654e-01  1.49114943e+00\n",
      " -1.38950836e+00  5.76444970e-02  1.22670606e+00  1.57049544e+00\n",
      " -1.73200672e-01 -4.45530436e-01 -6.78781282e-01 -4.74344116e-01\n",
      "  3.60478034e-02  9.26214163e-01 -1.48677402e-01 -2.03159251e-01\n",
      "  5.52760904e-01 -1.02841587e+00 -1.42851326e+00  8.77630876e-01\n",
      " -2.11213149e-03 -7.69014304e-01 -3.73231027e-01  3.04363473e-01\n",
      "  4.71373361e-01  3.20449174e+00 -3.41955655e+00 -8.07303033e-01\n",
      " -2.73616808e-01 -3.77242150e-01  1.29364861e+00 -5.86096180e-02] \n",
      " f(x) = 0.00100\n"
     ]
    }
   ],
   "source": [
    "def generate_data(size):\n",
    "    A = np.random.randn(size,size)\n",
    "    x = np.random.randn(size)\n",
    "    b = A.dot(x)\n",
    "    return A, b, x\n",
    "\n",
    "def f(x):\n",
    "    global A, b\n",
    "    return norm(A@x  - b) ** 2\n",
    "    \n",
    "def grad_f(x):\n",
    "    global A, b\n",
    "    return 2 * (A @ x - b).T @ A\n",
    "\n",
    "def def_alpha():\n",
    "    global A\n",
    "    #собственные значения матрицы 2* A.T @ A\n",
    "    eigenvalues, _ = eig(2 *A.T @ A)\n",
    "    return max(eigenvalues)\n",
    "    \n",
    "def grad_descent(num_iter=100):\n",
    "    global x, size\n",
    "    f_solution = f(x)\n",
    "    alpha, beta, eps = def_alpha(), 0.1, 0.001\n",
    "    H = ((1 - beta) ** 2) / (alpha * (1 + beta) ** 2)\n",
    "    # в начале градиентного спуска инициализируем значение x какими-нибудь вектором\n",
    "    cur_x = np.ones(100)\n",
    "    steps = [[cur_x, f(cur_x)]]\n",
    "    # итерация цикла -- шаг градиентнго спуска\n",
    "    while  f(cur_x) - f_solution > eps:\n",
    "        steps.append([cur_x, f(cur_x)])\n",
    "        norm_vector = beta * norm(grad_f(cur_x))\n",
    "        random_vector = np.random.randn(size)\n",
    "        normalize_vector = random_vector * norm_vector / norm(random_vector)\n",
    "        cur_x = cur_x - H * (grad_f(cur_x) + normalize_vector)\n",
    "    steps.append([cur_x, f(cur_x)])\n",
    "    return np.array(steps)\n",
    "\n",
    "size = 100\n",
    "A,b,x = generate_data(size)\n",
    "steps = grad_descent()\n",
    "print('x_solution = ', steps[-1][0] , '\\n', 'f(x) = %.5f'%steps[-1][1])"
   ]
  },
  {
   "cell_type": "code",
   "execution_count": 3,
   "metadata": {
    "scrolled": true
   },
   "outputs": [
    {
     "name": "stdout",
     "output_type": "stream",
     "text": [
      "count of steps = 26007\n"
     ]
    }
   ],
   "source": [
    "print('count of steps = %d'%steps.shape[0])"
   ]
  },
  {
   "cell_type": "code",
   "execution_count": 4,
   "metadata": {
    "scrolled": true
   },
   "outputs": [],
   "source": [
    "file = open('solution.txt', 'w')\n",
    "file.write('step \\t function value \\n')\n",
    "for i,step in enumerate(steps):\n",
    "    file.write('%d \\t %f \\n'%(i, step[1]))"
   ]
  },
  {
   "cell_type": "code",
   "execution_count": 5,
   "metadata": {
    "scrolled": true
   },
   "outputs": [
    {
     "data": {
      "text/plain": [
       "Text(0, 0.5, 'f(cur_x)')"
      ]
     },
     "execution_count": 5,
     "metadata": {},
     "output_type": "execute_result"
    },
    {
     "data": {
      "image/png": "[encoded data removed]",
      "text/plain": [
       "<Figure size 432x288 with 1 Axes>"
      ]
     },
     "metadata": {
      "needs_background": "light"
     },
     "output_type": "display_data"
    }
   ],
   "source": [
    "f_solution = f(x)\n",
    "f_x_0 = f(steps[0][0])\n",
    "x_axis = [i for i in range(steps.shape[0])]\n",
    "y_axis = [math.log((f[1] - f_solution)/(f_x_0 - f_solution)) for f in steps]\n",
    "plt.scatter(x_axis, y_axis)\n",
    "plt.title('Gradient descent')\n",
    "plt.xlabel('step')\n",
    "plt.ylabel('f(cur_x)')"
   ]
  },
  {
   "cell_type": "code",
   "execution_count": null,
   "metadata": {},
   "outputs": [],
   "source": []
  }
 ],
 "metadata": {
  "kernelspec": {
   "display_name": "Python 3",
   "language": "python",
   "name": "python3"
  },
  "language_info": {
   "codemirror_mode": {
    "name": "ipython",
    "version": 3
   },
   "file_extension": ".py",
   "mimetype": "text/x-python",
   "name": "python",
   "nbconvert_exporter": "python",
   "pygments_lexer": "ipython3",
   "version": "3.7.3"
  }
 },
 "nbformat": 4,
 "nbformat_minor": 2
}
