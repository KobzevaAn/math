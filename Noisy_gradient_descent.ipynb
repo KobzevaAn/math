{
 "cells": [
  {
   "cell_type": "code",
   "execution_count": 1,
   "metadata": {
    "scrolled": true
   },
   "outputs": [],
   "source": [
    "import numpy as np\n",
    "import random\n",
    "import math\n",
    "from numpy.linalg import norm, eig\n",
    "#plot\n",
    "import matplotlib.pyplot as plt\n",
    "%matplotlib inline\n",
    "plt.style.use('bmh')"
   ]
  },
  {
   "cell_type": "markdown",
   "metadata": {},
   "source": [
    "\n",
    "##### Noisy gradient $$x_{k+1}=x_k-h\\nabla g(x_k), h=\\frac{1+\\beta}{L(1-\\beta)^2}, \\|\\nabla f(x) - g(x)\\|\\leq\\beta\\|\\nabla f(x)\\| $$"
   ]
  },
  {
   "cell_type": "code",
   "execution_count": 14,
   "metadata": {
    "scrolled": true
   },
   "outputs": [
    {
     "name": "stdout",
     "output_type": "stream",
     "text": [
      "x_solution =  [ 0.63216527 -1.24597849 -0.90963987  0.40876363  1.36761241 -1.30768741\n",
      " -1.26501919 -0.34214574 -0.58652648  0.47810364  0.70825601 -1.15503247\n",
      "  0.54615718 -0.22461111  1.33004407  2.22655473 -0.21211847  1.58109932\n",
      "  0.76058198  0.54013906 -0.37094191  1.07009801 -0.47472557 -0.14485314\n",
      "  1.26337935  0.33125215  0.50932023 -0.55437653  0.80953508 -0.12598983\n",
      "  1.21397383  0.0122596  -0.59538893  0.53069401 -0.11247879  0.80069581\n",
      " -0.72915652 -0.21556899  0.13765707  0.78910662  0.12299592  0.76340024\n",
      "  0.81776217 -1.11348939 -0.47308358  1.30898247  0.61591295  0.31654124\n",
      "  0.43509304  0.65386588  1.30388084 -0.52404058 -0.60864836  0.81086319\n",
      " -1.16340471  0.75569386  0.79746254 -0.66523994  0.48425054 -0.90429722\n",
      " -1.92180706  0.84842488 -0.45647739 -1.9185376   0.63739812 -0.28035206\n",
      " -0.45753786 -0.29488842  0.24910907  0.32671046 -0.84772725  0.32051305\n",
      "  1.90668522  0.92199746  0.67728224 -0.71397441 -1.82253629  0.09452934\n",
      "  0.91197199  0.28209598  2.13091632  0.41050983 -0.49484942 -0.06766775\n",
      "  0.07334    -0.48586101  0.29863158 -0.24209201 -0.78681608 -1.10208828\n",
      " -0.08499687 -0.1308246  -0.13190569  0.77699342 -0.90370556 -0.23407577\n",
      "  0.27504186 -1.22373178  0.97628253 -0.65810232] \n",
      " f(x) = 0.00100\n"
     ]
    }
   ],
   "source": [
    "def generate_data(size):\n",
    "    A = np.random.randn(size,size)\n",
    "    x = np.random.randn(size)\n",
    "    b = A.dot(x)\n",
    "    return A, b, x\n",
    "\n",
    "def f(x):\n",
    "    global A, b\n",
    "    return norm(A@x  - b) ** 2\n",
    "    \n",
    "def grad_f(x):\n",
    "    global A, b\n",
    "    return 2 * (A @ x - b).T @ A\n",
    "\n",
    "def def_alpha():\n",
    "    global A\n",
    "    #собственные значения матрицы 2* A.T @ A\n",
    "    eigenvalues, _ = eig(2 *A.T @ A)\n",
    "    return max(eigenvalues)\n",
    "    \n",
    "def grad_descent(num_iter=100):\n",
    "    global x, size\n",
    "    f_solution = f(x)\n",
    "    alpha, beta, eps = def_alpha(), 0.1, 0.001\n",
    "    H = (1 - beta) / (alpha * (1 + beta) ** 2)\n",
    "    # в начале градиентного спуска инициализируем значение x какими-нибудь вектором\n",
    "    cur_x = np.ones(100)\n",
    "    steps = [[cur_x, f(cur_x)]]\n",
    "    # итерация цикла -- шаг градиентнго спуска\n",
    "    while  f(cur_x) - f_solution > eps:\n",
    "        steps.append([cur_x, f(cur_x)])\n",
    "        norm_vector = beta * norm(grad_f(cur_x))\n",
    "        random_vector = np.random.randn(size)\n",
    "        normalize_vector = random_vector * norm_vector / norm(random_vector)\n",
    "        cur_x = cur_x - H * (grad_f(cur_x) + normalize_vector)\n",
    "    steps.append([cur_x, f(cur_x)])\n",
    "    return np.array(steps)\n",
    "\n",
    "size = 100\n",
    "A,b,x = generate_data(size)\n",
    "steps = grad_descent()\n",
    "print('x_solution = ', steps[-1][0] , '\\n', 'f(x) = %.5f'%steps[-1][1])"
   ]
  },
  {
   "cell_type": "code",
   "execution_count": 15,
   "metadata": {
    "scrolled": true
   },
   "outputs": [
    {
     "name": "stdout",
     "output_type": "stream",
     "text": [
      "count of steps = 11378\n"
     ]
    }
   ],
   "source": [
    "print('count of steps = %d'%steps.shape[0])"
   ]
  },
  {
   "cell_type": "code",
   "execution_count": 16,
   "metadata": {
    "scrolled": true
   },
   "outputs": [],
   "source": [
    "file = open('solution.txt', 'w')\n",
    "file.write('step \\t function value \\n')\n",
    "for i,step in enumerate(steps):\n",
    "    file.write('%d \\t %f \\n'%(i, step[1]))"
   ]
  },
  {
   "cell_type": "code",
   "execution_count": 17,
   "metadata": {
    "scrolled": true
   },
   "outputs": [
    {
     "data": {
      "text/plain": [
       "Text(0, 0.5, 'f(cur_x)')"
      ]
     },
     "execution_count": 17,
     "metadata": {},
     "output_type": "execute_result"
    },
    {
     "data": {
      "image/png": "[encoded data removed]",
      "text/plain": [
       "<Figure size 432x288 with 1 Axes>"
      ]
     },
     "metadata": {
      "needs_background": "light"
     },
     "output_type": "display_data"
    }
   ],
   "source": [
    "f_solution = f(x)\n",
    "f_x_0 = f(steps[0][0])\n",
    "x_axis = [i for i in range(steps.shape[0])]\n",
    "y_axis = [math.log((f[1] - f_solution)/(f_x_0 - f_solution)) for f in steps]\n",
    "plt.scatter(x_axis, y_axis)\n",
    "plt.title('Gradient descent')\n",
    "plt.xlabel('step')\n",
    "plt.ylabel('f(cur_x)')"
   ]
  },
  {
   "cell_type": "code",
   "execution_count": null,
   "metadata": {},
   "outputs": [],
   "source": []
  }
 ],
 "metadata": {
  "kernelspec": {
   "display_name": "Python 3",
   "language": "python",
   "name": "python3"
  },
  "language_info": {
   "codemirror_mode": {
    "name": "ipython",
    "version": 3
   },
   "file_extension": ".py",
   "mimetype": "text/x-python",
   "name": "python",
   "nbconvert_exporter": "python",
   "pygments_lexer": "ipython3",
   "version": "3.7.3"
  }
 },
 "nbformat": 4,
 "nbformat_minor": 2
}
